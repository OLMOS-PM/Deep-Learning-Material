{
 "cells": [
  {
   "cell_type": "markdown",
   "metadata": {},
   "source": [
    "# Lab: RNNs for Sentiment Analysis (with Attention)\n",
    "\n",
    "\n",
    "------------------------------------------------------\n",
    "\n",
    "*Pablo M. Olmos pamartin@ing.uc3m.es*\n",
    "\n",
    "\n",
    "------------------------------------------------------\n",
    "\n",
    "In this notebook your goal is to take your solution to the previous Lab (Sentiment Analysis with RNNs) and add a simple attention layer before the classifier. Let $\\mathbf{h}_0,\\ldots,\\mathbf{h}_\\ell$ be the RNN output states ($\\ell$ is the last state before feeding the garbage tokens):\n",
    "- We will use $\\mathbf{h}_\\ell$ as the query ($\\mathbf{q}=\\mathbf{h}_\\ell$)\n",
    "- $\\mathbf{h}_0,\\ldots,\\mathbf{h}_\\ell$ are the keys\n",
    "- Construct a two-layer MLP to construct the unnormalized weights $w_j=a(\\mathbf{q},\\mathbf{h}_j)$, $j=1,\\ldots,\\ell$. For the intermediate layer, use $tanh()$ activation.\n",
    "- Normalized weights are given by $\\mathbf{\\alpha}=\\text{Softmax}(w_1,\\ldots,w_\\ell)$.\n",
    "- Input to the classifier is\n",
    "\\begin{align}\n",
    "\\mathbf{c} = \\sum_{j=1}^{\\ell}\\alpha_j \\mathbf{h}_j\n",
    "\\end{align}\n",
    "\n",
    "Analyze if performance is improved and visualize the attention weights for a couple of cases.\n",
    "\n",
    "**Note:** While you do not have to code much more given the solution of the previous lab, it is tricky to code the attention layer efficiently. \n",
    "\n",
    "**Note 2:** Note we do NOT include in the attention module the states corresponding to processing the garbage token # to normalize lengths. It's important to keep this in mind. You can do this by masking the unnormalized weights $w_j$ if you compute then for the whole RNN output sequence.\n"
   ]
  },
  {
   "cell_type": "code",
   "execution_count": 1,
   "metadata": {},
   "outputs": [],
   "source": [
    "# To use it in colab, update spacy \n",
    "#!pip install --upgrade spacy "
   ]
  },
  {
   "cell_type": "code",
   "execution_count": 2,
   "metadata": {},
   "outputs": [],
   "source": [
    "# Download language model\n",
    "\n",
    "# !python -m spacy download en_core_web_md"
   ]
  },
  {
   "cell_type": "code",
   "execution_count": 3,
   "metadata": {},
   "outputs": [],
   "source": [
    "import numpy as np\n",
    "import pandas as pd\n",
    "import spacy\n",
    "\n",
    "\n",
    "%matplotlib inline\n",
    "%config InlineBackend.figure_format = 'retina' \n",
    "import matplotlib.pyplot as plt"
   ]
  },
  {
   "cell_type": "code",
   "execution_count": 4,
   "metadata": {},
   "outputs": [],
   "source": [
    "with open(\"Sentences.txt\", \"r\", encoding=\"ISO-8859-1\") as sentences:\n",
    "    lines = sentences.readlines()"
   ]
  },
  {
   "cell_type": "markdown",
   "metadata": {},
   "source": [
    "In lines, we have a list of sentences and an associted label, separated by the character `@`"
   ]
  },
  {
   "cell_type": "code",
   "execution_count": 5,
   "metadata": {},
   "outputs": [
    {
     "name": "stdout",
     "output_type": "stream",
     "text": [
      "According to Gran , the company has no plans to move all production to Russia , although that is where the company is growing .@neutral\n",
      "\n"
     ]
    }
   ],
   "source": [
    "print(lines[0])"
   ]
  },
  {
   "cell_type": "markdown",
   "metadata": {},
   "source": [
    "We split the sentence and we code with 0 neutral labels, with 1 negative labels, and with 2 positive labels"
   ]
  },
  {
   "cell_type": "code",
   "execution_count": 6,
   "metadata": {},
   "outputs": [],
   "source": [
    "phrases = [l.split('@')[0] for l in lines]\n",
    "opinions = [l.split('@')[1] for l in lines]\n",
    "\n",
    "\n",
    "def code_opinion(l):\n",
    "    \n",
    "    d = 0\n",
    "    \n",
    "    if (l=='negative\\n'):\n",
    "        \n",
    "        d = 1\n",
    "        \n",
    "    elif (l=='positive\\n'):\n",
    "        \n",
    "        d = 2\n",
    "        \n",
    "    return d\n",
    "\n",
    "labels = np.array([code_opinion(l) for l in opinions])\n",
    "    "
   ]
  },
  {
   "cell_type": "code",
   "execution_count": 7,
   "metadata": {},
   "outputs": [
    {
     "data": {
      "text/html": [
       "<div>\n",
       "<style scoped>\n",
       "    .dataframe tbody tr th:only-of-type {\n",
       "        vertical-align: middle;\n",
       "    }\n",
       "\n",
       "    .dataframe tbody tr th {\n",
       "        vertical-align: top;\n",
       "    }\n",
       "\n",
       "    .dataframe thead th {\n",
       "        text-align: right;\n",
       "    }\n",
       "</style>\n",
       "<table border=\"1\" class=\"dataframe\">\n",
       "  <thead>\n",
       "    <tr style=\"text-align: right;\">\n",
       "      <th></th>\n",
       "      <th>Phrase</th>\n",
       "      <th>Opinion</th>\n",
       "    </tr>\n",
       "  </thead>\n",
       "  <tbody>\n",
       "    <tr>\n",
       "      <th>0</th>\n",
       "      <td>According to Gran , the company has no plans t...</td>\n",
       "      <td>neutral\\n</td>\n",
       "    </tr>\n",
       "    <tr>\n",
       "      <th>1</th>\n",
       "      <td>With the new production plant the company woul...</td>\n",
       "      <td>positive\\n</td>\n",
       "    </tr>\n",
       "    <tr>\n",
       "      <th>2</th>\n",
       "      <td>For the last quarter of 2010 , Componenta 's n...</td>\n",
       "      <td>positive\\n</td>\n",
       "    </tr>\n",
       "    <tr>\n",
       "      <th>3</th>\n",
       "      <td>In the third quarter of 2010 , net sales incre...</td>\n",
       "      <td>positive\\n</td>\n",
       "    </tr>\n",
       "    <tr>\n",
       "      <th>4</th>\n",
       "      <td>Operating profit rose to EUR 13.1 mn from EUR ...</td>\n",
       "      <td>positive\\n</td>\n",
       "    </tr>\n",
       "    <tr>\n",
       "      <th>...</th>\n",
       "      <td>...</td>\n",
       "      <td>...</td>\n",
       "    </tr>\n",
       "    <tr>\n",
       "      <th>5712</th>\n",
       "      <td>Operating result for the 12-month period decre...</td>\n",
       "      <td>negative\\n</td>\n",
       "    </tr>\n",
       "    <tr>\n",
       "      <th>5713</th>\n",
       "      <td>HELSINKI Thomson Financial - Shares in Cargote...</td>\n",
       "      <td>negative\\n</td>\n",
       "    </tr>\n",
       "    <tr>\n",
       "      <th>5714</th>\n",
       "      <td>LONDON MarketWatch -- Share prices ended lower...</td>\n",
       "      <td>negative\\n</td>\n",
       "    </tr>\n",
       "    <tr>\n",
       "      <th>5715</th>\n",
       "      <td>Operating profit fell to EUR 35.4 mn from EUR ...</td>\n",
       "      <td>negative\\n</td>\n",
       "    </tr>\n",
       "    <tr>\n",
       "      <th>5716</th>\n",
       "      <td>Sales in Finland decreased by 10.5 % in Januar...</td>\n",
       "      <td>negative\\n</td>\n",
       "    </tr>\n",
       "  </tbody>\n",
       "</table>\n",
       "<p>5717 rows × 2 columns</p>\n",
       "</div>"
      ],
      "text/plain": [
       "                                                 Phrase     Opinion\n",
       "0     According to Gran , the company has no plans t...   neutral\\n\n",
       "1     With the new production plant the company woul...  positive\\n\n",
       "2     For the last quarter of 2010 , Componenta 's n...  positive\\n\n",
       "3     In the third quarter of 2010 , net sales incre...  positive\\n\n",
       "4     Operating profit rose to EUR 13.1 mn from EUR ...  positive\\n\n",
       "...                                                 ...         ...\n",
       "5712  Operating result for the 12-month period decre...  negative\\n\n",
       "5713  HELSINKI Thomson Financial - Shares in Cargote...  negative\\n\n",
       "5714  LONDON MarketWatch -- Share prices ended lower...  negative\\n\n",
       "5715  Operating profit fell to EUR 35.4 mn from EUR ...  negative\\n\n",
       "5716  Sales in Finland decreased by 10.5 % in Januar...  negative\\n\n",
       "\n",
       "[5717 rows x 2 columns]"
      ]
     },
     "execution_count": 7,
     "metadata": {},
     "output_type": "execute_result"
    }
   ],
   "source": [
    "df = pd.DataFrame({\"Phrase\":phrases,\n",
    "                  \"Opinion\":opinions})\n",
    "\n",
    "df"
   ]
  },
  {
   "cell_type": "markdown",
   "metadata": {},
   "source": [
    "Lets plot the histogram of the labels ..."
   ]
  },
  {
   "cell_type": "code",
   "execution_count": 8,
   "metadata": {},
   "outputs": [
    {
     "data": {
      "image/png": "[encoded data removed]",
      "text/plain": [
       "<Figure size 432x288 with 1 Axes>"
      ]
     },
     "metadata": {
      "image/png": {
       "height": 277,
       "width": 383
      },
      "needs_background": "light"
     },
     "output_type": "display_data"
    }
   ],
   "source": [
    "fig,ax = plt.subplots(1,1)\n",
    "\n",
    "ax.hist(labels)\n",
    "ax.set_xticks([0,1,2])\n",
    "ax.set_xticklabels(['Neutral','Negative','Positive'],rotation=45)\n",
    "ax.grid()\n"
   ]
  },
  {
   "cell_type": "markdown",
   "metadata": {},
   "source": [
    "To simplify the problem, we're fusing together *Neutral* and *Positive* labels. So label 1 is *Negative review* and label 0 is *Positive+Neutral*. Also, we separate between train, validation and test."
   ]
  },
  {
   "cell_type": "code",
   "execution_count": 9,
   "metadata": {},
   "outputs": [],
   "source": [
    "from sklearn.model_selection import train_test_split\n",
    "\n",
    "labels_bin = labels.copy()\n",
    "\n",
    "labels_bin[labels_bin==2] = 0 \n",
    "\n",
    "idx_data = np.arange(0,len(df),1)\n",
    "\n",
    "# Separamos train de test\n",
    "idx_train, idx_test, y_train, y_test = train_test_split(idx_data, labels_bin, test_size=0.2, random_state=0)\n",
    "\n",
    "# Separamos train de val\n",
    "idx_train, idx_val, y_train, y_val = train_test_split(idx_train, y_train, test_size=0.2, random_state=0)\n",
    "\n",
    "acc_baseline_train = np.sum(y_train==0)/y_train.shape[0]"
   ]
  },
  {
   "cell_type": "markdown",
   "metadata": {},
   "source": [
    "### Text pre-processing"
   ]
  },
  {
   "cell_type": "markdown",
   "metadata": {},
   "source": [
    "With the following code, we pre-process using Spacy each sentence by removing words that are punctuation marks. We also remove [stopping words](https://nlp.stanford.edu/IR-book/html/htmledition/dropping-common-terms-stop-words-1.html) (words that are not very informative). As a result, we have the list `norm_docs`. "
   ]
  },
  {
   "cell_type": "code",
   "execution_count": 10,
   "metadata": {},
   "outputs": [],
   "source": [
    "nlp = spacy.load(\"en_core_web_md\") # Language model\n",
    "\n",
    "\n",
    "docs = [nlp(c) for c in phrases]\n",
    "\n",
    "# We remove punctuation marks (.,;:?!...) and stopping words\n",
    "def normalize(doc):\n",
    "    \n",
    "    return [w for w in doc if w.has_vector and not w.is_punct and not w.is_stop]\n",
    "\n",
    "norm_docs = [normalize(d) for d in docs]\n",
    "\n"
   ]
  },
  {
   "cell_type": "markdown",
   "metadata": {},
   "source": [
    "Every item of `norm_docs` corresponds to each of the sentences in the dataset. Each item is itself a list of spacy tokens (basically words with different attributes). The most important attribute for us the the *word embedding vector*. For instance, lets print the first sentence"
   ]
  },
  {
   "cell_type": "code",
   "execution_count": 11,
   "metadata": {},
   "outputs": [
    {
     "name": "stdout",
     "output_type": "stream",
     "text": [
      "The first original sentence is: According to Gran , the company has no plans to move all production to Russia , although that is where the company is growing .\n",
      "\n",
      "The first normalized sentence is: [According, Gran, company, plans, production, Russia, company, growing]. The length of the document is 8 tokens\n"
     ]
    }
   ],
   "source": [
    "print(f'The first original sentence is: {phrases[0]}\\n')\n",
    "\n",
    "print(f'The first normalized sentence is: {norm_docs[0]}. The length of the document is {len(norm_docs[0])} tokens')"
   ]
  },
  {
   "cell_type": "markdown",
   "metadata": {},
   "source": [
    "We can access to the word embedding of each token using the attribute `.vector`:"
   ]
  },
  {
   "cell_type": "code",
   "execution_count": 12,
   "metadata": {},
   "outputs": [
    {
     "name": "stdout",
     "output_type": "stream",
     "text": [
      "The word embedding associated with the token According is\n",
      "\n",
      "[-1.8993e-01  7.0686e-03  2.2466e-01  1.1441e-01 -1.7058e-01 -2.0702e-02\n",
      "  1.0430e-01  6.1981e-02 -5.4537e-02  2.6813e+00 -2.8966e-01  2.2361e-01\n",
      " -2.1493e-02  2.9268e-01 -2.5843e-01 -5.3807e-01  3.3709e-01  1.1680e+00\n",
      "  1.6551e-01  6.5886e-02  1.4446e-01  3.4677e-01 -1.2809e-01 -3.8114e-02\n",
      "  2.2085e-01  1.9886e-01 -4.1755e-01  1.6474e-01 -2.2054e-01 -2.7242e-02\n",
      "  8.8179e-02  2.7589e-01  2.5669e-01  2.1639e-01  1.6127e-01  4.2795e-01\n",
      "  2.0554e-04 -1.3096e-01  5.1889e-02 -1.1941e-01 -2.0728e-01  6.0784e-02\n",
      "  1.7197e-01 -2.6056e-02 -2.5960e-01 -2.7028e-01  6.9555e-02 -1.3087e-01\n",
      "  1.0921e-01 -1.2391e-01 -1.8302e-01 -2.8909e-01 -3.3452e-01 -2.5565e-01\n",
      " -2.6496e-01 -2.8909e-01 -5.6848e-02  4.3846e-01  1.4577e-01 -2.0472e-01\n",
      "  3.2083e-01 -5.1273e-02 -1.8690e-01  3.8355e-01 -3.7892e-01  1.7339e-01\n",
      " -3.8200e-01  8.3093e-03  2.6051e-01  3.4202e-01 -1.5279e-01 -3.1518e-01\n",
      "  2.8419e-01 -3.4394e-01 -4.3389e-01  2.5400e-02  5.4666e-02  2.5287e-02\n",
      "  3.7150e-02 -9.6571e-02 -9.5979e-02  1.0017e-01  2.3045e-01 -5.3984e-01\n",
      "  4.8986e-01 -3.0572e-01 -4.6670e-01 -3.4749e-01 -1.3676e-01  8.1734e-02\n",
      "  1.3511e-01 -4.8939e-01  7.7483e-02  4.2916e-01  2.6831e-01 -7.2884e-01\n",
      "  4.3748e-03 -3.2006e-01  5.0046e-01 -3.0165e-01 -3.0323e-01  2.5327e-01\n",
      "  8.9182e-02  3.3106e-01 -2.9512e-01 -1.2087e+00 -2.2366e-01 -5.9588e-03\n",
      "  1.0453e-01 -1.2589e-01 -2.5982e-01 -1.9473e-01  1.1677e-01  3.5060e-01\n",
      " -1.4314e-01  3.2697e-01 -3.4176e-01 -1.1094e-02  1.9588e-01  4.1581e-01\n",
      " -3.3605e-01  2.4461e-01  2.3403e-01 -2.4954e-01 -1.5732e-01 -2.1330e-01\n",
      "  6.9520e-02 -2.5440e-01  1.0766e-01 -2.0254e-01 -9.3820e-02  1.4896e-01\n",
      "  7.9366e-02  4.5313e-03 -1.5086e-01 -1.7995e-01  3.7342e-01 -1.9216e-01\n",
      "  1.8786e-02  1.3460e-01  1.8879e-01  1.3989e-01 -3.0652e-01 -2.3486e-01\n",
      " -1.8449e-02 -2.2784e-01 -7.8468e-02 -7.8321e-02 -5.4143e-01 -6.6833e-02\n",
      " -4.1662e-01 -3.0948e-01 -3.4766e-01 -1.7301e-01 -2.7114e-02 -1.7407e-02\n",
      " -5.8048e-01 -6.7615e-02 -5.9729e-01 -3.6836e-01  2.1923e-01  6.0040e-02\n",
      " -1.9276e-02 -1.1337e-01 -6.3726e-01 -6.8070e-02  2.6494e-01  4.8095e-01\n",
      "  2.3270e-01 -1.4958e-01  3.1114e-01 -2.9885e-01  6.9476e-02 -3.1345e-01\n",
      " -5.1856e-02 -3.6385e-02 -1.7206e-02 -2.3519e-01 -4.9092e-01 -2.8239e-02\n",
      "  1.5078e-01 -2.4235e-01 -1.5832e-01 -3.2814e-01 -1.5679e-01  1.3254e-01\n",
      " -1.0777e-01  4.1455e-01 -1.0009e-01 -1.2885e-02 -1.4448e-01 -1.2791e-01\n",
      " -3.9475e-02  2.1510e-01  1.2238e-01 -3.3588e-02 -2.0693e-01  1.4928e-01\n",
      " -6.3518e-01 -1.0450e-01 -1.9221e-01  1.9069e-01  8.6693e-02  1.1094e-01\n",
      "  2.6129e-01 -1.4292e-01  2.3232e-02  9.8486e-02 -3.3350e-01  4.5484e-01\n",
      " -1.3709e-01 -7.0665e-02 -2.7499e-02 -4.3068e-01 -9.3009e-02 -1.4344e-01\n",
      "  3.5110e-02  2.7836e-01 -6.4248e-02  5.2333e-01 -9.7716e-02 -2.1625e-03\n",
      " -1.8465e-01 -1.2521e-01 -1.6948e-01  8.7241e-02 -1.0967e-01  1.9509e-01\n",
      " -1.9476e-01  4.8711e-01 -1.2908e-01  3.2615e-02 -2.2325e-01 -1.2969e-01\n",
      " -2.4754e-01 -4.7545e-01 -2.0426e-01  1.1904e-01 -4.0961e-02  9.3465e-02\n",
      " -3.3273e-02 -2.9438e-01  3.2710e-01 -2.7854e-01 -1.4755e-01  1.8109e-01\n",
      "  6.9048e-01 -2.1920e-01 -6.4973e-02 -1.4354e-01  2.4438e-01  4.1723e-01\n",
      " -1.2439e-01  2.5597e-02  3.0365e-01  6.6654e-01  7.1379e-01  7.5289e-02\n",
      "  2.4058e-01 -6.4689e-01  4.1786e-01  7.6298e-02 -6.3747e-01 -3.5962e-01\n",
      " -2.6824e-01 -1.1627e-01 -1.4457e-01  2.1653e-01  5.3438e-01 -3.3340e-01\n",
      "  3.0143e-01 -1.1401e-01  3.7102e-01  7.8981e-02 -5.1384e-01  1.2731e-01\n",
      " -1.6182e-01  4.0541e-01 -1.0330e-01  1.2183e-01 -6.1055e-02  3.6546e-02\n",
      "  2.1822e-01 -3.0534e-01 -2.1566e-01 -9.8874e-02 -4.7560e-01 -1.8452e-01\n",
      "  4.4087e-01  3.1060e-01 -3.5734e-01 -1.7614e-01  3.5858e-01  1.9078e-01\n",
      "  1.5560e-02 -4.7775e-01 -4.9878e-01 -4.8321e-02  1.4697e-01  2.3141e-01]\n"
     ]
    }
   ],
   "source": [
    "print(f'The word embedding associated with the token {norm_docs[0][0].text} is\\n')\n",
    "print(norm_docs[0][0].vector)"
   ]
  },
  {
   "cell_type": "markdown",
   "metadata": {},
   "source": [
    "You can check that the word embedding dimension is 300 ..."
   ]
  },
  {
   "cell_type": "code",
   "execution_count": 13,
   "metadata": {},
   "outputs": [
    {
     "name": "stdout",
     "output_type": "stream",
     "text": [
      "The WE dimension is (300,)\n"
     ]
    }
   ],
   "source": [
    "print(f'The WE dimension is {norm_docs[0][0].vector.shape}')"
   ]
  },
  {
   "cell_type": "markdown",
   "metadata": {},
   "source": [
    "### Length normalization\n",
    "\n",
    "Note that in this problem we're working with sequences of text of different length. This is in principle not a problem for RNNs. However, there's one additional pre-processing step that we have to do. When we feed the RNN function **all sequences in the mini-batch must have the same length**. Then we will use the corresponding state to make the prediction.\n",
    "\n",
    "For simplicity, we are taking here a non-efficient solution. Instead of normalize lengths at a batch level, we are normalizing the whole dataset so all sequences have the same length. To do so, we're adding **junk tokens** to all sentences so they artificially are of the same length. However, we will keep in a list the real length of each data, since the sentiment analysis prediction will be made using the RNN state corresponding to the **last real token**.\n",
    "\n"
   ]
  },
  {
   "cell_type": "code",
   "execution_count": 14,
   "metadata": {},
   "outputs": [],
   "source": [
    "# List with the length for each sentence\n",
    "\n",
    "lengths = [len(d) for d in norm_docs]\n",
    "\n",
    "# Maximum length (in train!)\n",
    "max_l = np.max([lengths[d] for d in idx_train])"
   ]
  },
  {
   "cell_type": "code",
   "execution_count": 15,
   "metadata": {},
   "outputs": [],
   "source": [
    "# We add as many junk tokens (#) as needed to equalize the length of each sentence to max_l\n",
    "\n",
    "garbage_token = nlp('#') # Junk token --> #\n",
    "\n",
    "# We normalize the dataset\n",
    "\n",
    "norm_docs_eq_length = [norm_docs[d]+[garbage_token]*(max_l-lengths[d]) for d in range(len(norm_docs))]\n",
    "\n",
    "# Train documents\n",
    "\n",
    "docs_train = [norm_docs_eq_length[d] for d in idx_train]\n",
    "\n",
    "len_train = [lengths[d] for d in idx_train]\n",
    "\n",
    "# Validation documents\n",
    "\n",
    "docs_val = [norm_docs_eq_length[d] for d in idx_val]\n",
    "\n",
    "len_val = [lengths[d] for d in idx_val]\n",
    "\n",
    "# documentos test\n",
    "\n",
    "docs_test = [norm_docs_eq_length[d] for d in idx_test]\n",
    "\n",
    "len_test = [lengths[d] for d in idx_test]"
   ]
  },
  {
   "cell_type": "code",
   "execution_count": 16,
   "metadata": {},
   "outputs": [],
   "source": [
    "from torch import nn\n",
    "from torch import optim\n",
    "import torch"
   ]
  },
  {
   "cell_type": "code",
   "execution_count": 342,
   "metadata": {},
   "outputs": [],
   "source": [
    "class AttRNN(nn.Module):\n",
    "    def __init__(self, input_size, output_size, hidden_dim, n_layers,att_size,prob=0.5):\n",
    "        \n",
    "        \n",
    "        super().__init__()\n",
    "        \n",
    "        self.hidden_dim = hidden_dim\n",
    "        \n",
    "        self.input_size = input_size\n",
    "        \n",
    "        # Capa LSTM\n",
    "        # batch_first=True significa que la primera dimensión del tensor de entrada indexa datos distintos\n",
    "        self.rnn = nn.LSTM(input_size, hidden_dim, n_layers, dropout=prob, batch_first=True)\n",
    "        \n",
    "        # last, fully-connected layer\n",
    "        self.fc1 = nn.Linear(hidden_dim, output_size) \n",
    "        \n",
    "        # Attention layers\n",
    "        \n",
    "        self.att1 = nn.Linear(2*hidden_dim,att_size)\n",
    "        \n",
    "        self.att2 = nn.Linear(att_size,1)\n",
    "        \n",
    "        self.Tanh = nn.Tanh()\n",
    "        \n",
    "        self.softmax = nn.Softmax(dim=1)\n",
    "        \n",
    "        self.encoder_layer = nn.TransformerEncoderLayer(d_model=hidden_dim, nhead=1)\n",
    "           \n",
    "        self.logsoftmax = nn.LogSoftmax(dim=1) \n",
    "        \n",
    "        # Capa dropout \n",
    "        \n",
    "        self.dropout = nn.Dropout(p=prob)\n",
    "\n",
    "    def forward(self, x, lengths, h0=None):\n",
    "        \n",
    "        '''\n",
    "        \n",
    "        - x: Sequences of word embeddings. Dimensions (batch_size, max_l, word_embedding_size)\n",
    "        - lengths: The real length of each sequence, excluding the junk # tokens! You use this to know what\n",
    "          RNN state you should use to classify\n",
    "\n",
    "        '''\n",
    "        \n",
    "        batch_size = x.size(0) \n",
    "        seq_length = x.size(1)\n",
    "        dim_input = x.size(2)\n",
    "        \n",
    "        # Compute the RNN output (sequence of states for the whole input)\n",
    "        r_out, _ = self.rnn(x, h0) #YOUR CODE HERE\n",
    "        \n",
    "        # Lets concatenate the last VALID state to each of the previous states\n",
    "        \n",
    "        # Last valid state [batch_size,1,we_size] dimension\n",
    "        \n",
    "        aux = torch.stack([r_out[[d],lengths[d]-1,:] for d in range(batch_size)])\n",
    "        \n",
    "        # Repeat it seq_length times\n",
    "        \n",
    "        aux = aux.repeat(1,seq_length,1)\n",
    "        \n",
    "        # Concatenate\n",
    "        \n",
    "        extended_r_out = torch.cat([aux,r_out],dim=2)\n",
    "        \n",
    "        # Unnormalized attention weights\n",
    "        \n",
    "        un_weights = self.att2(self.Tanh(self.att1(extended_r_out.reshape([-1,2*self.hidden_dim])))).reshape([-1,seq_length])\n",
    "        \n",
    "        # Mask the weights to eliminate dependency with ###\n",
    "        \n",
    "        mask = np.zeros((batch_size,seq_length))\n",
    "        \n",
    "        for i in range(batch_size):\n",
    "            mask[i,(lengths[i]-1):] = -10000.0 ##Very negative value\n",
    "            \n",
    "        masked_un_weights = un_weights + torch.Tensor(mask)\n",
    "        \n",
    "        # Normalize attention weights and repeat values to match r_out dimensions\n",
    "        att_weights = self.softmax(masked_un_weights).reshape([-1,seq_length,1]).repeat(1,1,self.hidden_dim)\n",
    "        \n",
    "        # Context vector\n",
    "        context_vector = torch.sum(att_weights * r_out,dim=1)\n",
    "        \n",
    "        # Decision\n",
    "        output = self.logsoftmax(self.fc1(self.dropout(context_vector)))\n",
    "    \n",
    "        \n",
    "        return output,att_weights"
   ]
  },
  {
   "cell_type": "code",
   "execution_count": 343,
   "metadata": {},
   "outputs": [],
   "source": [
    "my_AttRNN = AttRNN(300,2,20,1,10)"
   ]
  },
  {
   "cell_type": "code",
   "execution_count": 344,
   "metadata": {},
   "outputs": [],
   "source": [
    "idx = [1,2,3]\n",
    "\n",
    "#[w.vector for w in docs_train[d]] generates the list of word vectors for the d-th document \n",
    "x_input = torch.Tensor([[w.vector for w in docs_train[d]] for d in idx])"
   ]
  },
  {
   "cell_type": "code",
   "execution_count": 345,
   "metadata": {},
   "outputs": [
    {
     "name": "stdout",
     "output_type": "stream",
     "text": [
      "[17, 19, 15]\n"
     ]
    }
   ],
   "source": [
    "print([lengths[d] for d in idx])"
   ]
  },
  {
   "cell_type": "code",
   "execution_count": 346,
   "metadata": {},
   "outputs": [
    {
     "name": "stdout",
     "output_type": "stream",
     "text": [
      "torch.Size([3, 2])\n",
      "torch.Size([3, 35, 20])\n"
     ]
    }
   ],
   "source": [
    "o,att_weights = my_AttRNN.forward(torch.Tensor(x_input),[lengths[d] for d in idx])\n",
    "\n",
    "print(o.shape)\n",
    "\n",
    "print(att_weights.shape)"
   ]
  },
  {
   "cell_type": "code",
   "execution_count": 347,
   "metadata": {},
   "outputs": [],
   "source": [
    "class AttRNN_with_train(AttRNN):\n",
    "    \n",
    "    def __init__(self,input_size, output_size, hidden_dim, n_layers,att_size, prob=0.0,batch_size=50,lr=0.0005,saved_files='./saved_models/AttRNN_sentiment_analysis'):\n",
    "        \n",
    "        super().__init__(input_size, output_size, hidden_dim, n_layers,att_size, prob)  \n",
    "        \n",
    "        self.lr = lr # Learning Rate\n",
    "        \n",
    "        self.optim = optim.Adam(self.parameters(), self.lr) # Optimizer\n",
    "        \n",
    "        self.criterion = nn.NLLLoss()               \n",
    "        \n",
    "        self.loss_during_training = [] \n",
    "        \n",
    "        self.valid_loss_during_training = [] \n",
    "        \n",
    "        self.batch_size = batch_size\n",
    "        \n",
    "        self.saved_files = saved_files\n",
    "        \n",
    "        \n",
    "    def predict_proba(self,docs,lengths,Y=None):\n",
    "        \n",
    "        '''\n",
    "        We use this method to get the output of the network given a set of documents. If label is provided,\n",
    "        we get accuracy.\n",
    "        \n",
    "        - docs: documents, each encoded as a list of spacy tokens. They are length-normalized.\n",
    "        - lengths: real length of each document.\n",
    "        - Y: labels\n",
    "        '''\n",
    "        accuracy = 0.0\n",
    "        \n",
    "        with torch.no_grad(): \n",
    "        \n",
    "            x_input = torch.Tensor([[w.vector for w in d] for d in docs])\n",
    "        \n",
    "            logprobs,att_weights = self.forward(x_input,lengths)\n",
    "            \n",
    "            logprobs = logprobs.detach().numpy()\n",
    "            \n",
    "            att_weights = att_weights.detach().numpy()\n",
    "            \n",
    "            if(len(Y)>0):\n",
    "            \n",
    "                accuracy = np.sum(np.argmax(logprobs,1)==Y)/np.shape(Y)[0]\n",
    "            \n",
    "        return logprobs,accuracy,att_weights\n",
    "            \n",
    "        \n",
    "    def fit(self,docs_train,docs_val,Y,Yval,len_train,len_val,epochs=100,print_every=5):\n",
    "        \n",
    "        '''\n",
    "        Método de entrenamiento.\n",
    "        \n",
    "        - docs_train, docs_val: training/validation documents  (each is a list of spacy tokens). \n",
    "          Normalized in length!\n",
    "        - len_train/len_val: real lengths\n",
    "        '''\n",
    "        \n",
    "        self.print_every = print_every\n",
    "        \n",
    "        self.epochs=epochs\n",
    "        \n",
    "        # Optimization Loop\n",
    "        \n",
    "        self.num_train = len(docs_train) # Number of training points\n",
    "        \n",
    "        self.num_batchs = np.floor(self.num_train/self.batch_size) # Number of training batches\n",
    "        \n",
    "        self.num_val = len(docs_val) # Number of validation points\n",
    "        \n",
    "        self.num_batchs_val = np.floor(self.num_val/self.batch_size) # Numero of validation batches\n",
    "        \n",
    "        labels = torch.Tensor(Y).type(torch.LongTensor) # Training labels\n",
    "        \n",
    "        labelsval = torch.Tensor(Yval).type(torch.LongTensor) # Validation labels\n",
    "        \n",
    "        \n",
    "        for e in range(int(self.epochs)):\n",
    "            \n",
    "            self.train() # Activate dropout\n",
    "            \n",
    "            # Random data permutation\n",
    "            \n",
    "            idx = np.random.permutation(self.num_train)\n",
    "            \n",
    "            running_loss = 0.\n",
    "            \n",
    "            for i in range(int(self.num_batchs)):\n",
    "                        \n",
    "                self.optim.zero_grad()  \n",
    "\n",
    "                # Indices of the data entering the batch\n",
    "\n",
    "                idx_batch = idx[i*self.batch_size:(i+1)*self.batch_size]\n",
    "                \n",
    "                # Just in case there are empty documents, we ignore them\n",
    "                idx_batch = [d for d in idx_batch if len_train[d]>0]\n",
    "                \n",
    "                # We code each document using the sequences of word embeddings\n",
    "                \n",
    "                x_input = torch.Tensor([[w.vector for w in docs_train[d]] for d in idx_batch])\n",
    "                \n",
    "                # We compute the classifier output for every data\n",
    "\n",
    "                out,_ = self.forward(x_input,[len_train[d] for d in idx_batch])\n",
    "                \n",
    "                # Cost function and gradient descent step\n",
    "\n",
    "                loss = self.criterion(out,labels[idx_batch])\n",
    "                \n",
    "                running_loss += loss.item()\n",
    "\n",
    "                loss.backward()\n",
    "\n",
    "                # Gradient clipping\n",
    "                nn.utils.clip_grad_norm_(self.parameters(), 2.0)\n",
    "                \n",
    "                # SGD steps\n",
    "                \n",
    "                self.optim.step()\n",
    "                \n",
    "            self.loss_during_training.append(running_loss/self.num_batchs)\n",
    "            \n",
    "            # We save model parameters\n",
    "            \n",
    "            torch.save(self.state_dict(), self.saved_files+'_epoch_'+str(e)+'.pth')\n",
    "            \n",
    "            # We repeat for validation\n",
    "            \n",
    "            with torch.no_grad(): \n",
    "                \n",
    "                # set model to evaluation mode\n",
    "                self.eval()\n",
    "                \n",
    "                running_loss = 0.\n",
    "                \n",
    "                idx = np.random.permutation(self.num_val)\n",
    "\n",
    "                running_loss = 0.\n",
    "                \n",
    "                for i in range(int(self.num_batchs_val)):\n",
    "                    \n",
    "                    idx_batch = idx[i*self.batch_size:(i+1)*self.batch_size] \n",
    "                    \n",
    "                    # Just in case there are empty documents, we ignore them\n",
    "                    idx_batch = [d for d in idx_batch if len_val[d]>0]\n",
    "                    \n",
    "                    x_input = torch.Tensor([[w.vector for w in docs_val[d]] for d in idx_batch])\n",
    "\n",
    "                    out,_  = self.forward(x_input,[len_val[d] for d in idx_batch])\n",
    "\n",
    "                    loss = self.criterion(out,labelsval[idx_batch])\n",
    "\n",
    "                    running_loss += loss.item() \n",
    "                    \n",
    "                self.valid_loss_during_training.append(running_loss/self.num_batchs_val)    \n",
    "                    \n",
    "                \n",
    "\n",
    "            if(e % self.print_every == 0): \n",
    "\n",
    "                print(f\"Training loss after {e} epochs: {self.loss_during_training[-1]}. Validation loss: {self.valid_loss_during_training[-1]}\")"
   ]
  },
  {
   "cell_type": "code",
   "execution_count": 393,
   "metadata": {},
   "outputs": [
    {
     "name": "stderr",
     "output_type": "stream",
     "text": [
      "/Users/olmos/opt/anaconda3/envs/gensim3/lib/python3.6/site-packages/torch/nn/modules/rnn.py:61: UserWarning: dropout option adds dropout after all but last recurrent layer, so non-zero dropout expects num_layers greater than 1, but got dropout=0.3 and num_layers=1\n",
      "  \"num_layers={}\".format(dropout, num_layers))\n"
     ]
    },
    {
     "name": "stdout",
     "output_type": "stream",
     "text": [
      "Training loss after 0 epochs: 0.5755626759300493. Validation loss: 0.39807849294609493\n",
      "Training loss after 1 epochs: 0.38373660428883277. Validation loss: 0.32546283221907085\n",
      "Training loss after 2 epochs: 0.3431124454491759. Validation loss: 0.30319206996096504\n",
      "Training loss after 3 epochs: 0.31569406716790915. Validation loss: 0.28381118840641445\n",
      "Training loss after 4 epochs: 0.29379992676924355. Validation loss: 0.26001016630066764\n",
      "Training loss after 5 epochs: 0.266077970601108. Validation loss: 0.23016138416197565\n",
      "Training loss after 6 epochs: 0.23389761711228385. Validation loss: 0.20474771368834707\n",
      "Training loss after 7 epochs: 0.20000821525511675. Validation loss: 0.20059358742502\n",
      "Training loss after 8 epochs: 0.17952453738001928. Validation loss: 0.17757139768865374\n",
      "Training loss after 9 epochs: 0.15411820859737593. Validation loss: 0.17718932032585144\n",
      "Training loss after 10 epochs: 0.13665370393085152. Validation loss: 0.16125279499424827\n",
      "Training loss after 11 epochs: 0.12165498330372654. Validation loss: 0.16036085598170757\n",
      "Training loss after 12 epochs: 0.10698954495665146. Validation loss: 0.1461036633182731\n",
      "Training loss after 13 epochs: 0.09802349983421091. Validation loss: 0.1502110337217649\n",
      "Training loss after 14 epochs: 0.08415940666749869. Validation loss: 0.15473312967353398\n",
      "Training loss after 15 epochs: 0.07331334560956448. Validation loss: 0.1605594413768914\n",
      "Training loss after 16 epochs: 0.06803718788472757. Validation loss: 0.14972429670807388\n",
      "Training loss after 17 epochs: 0.05670783135478627. Validation loss: 0.149189793297814\n",
      "Training loss after 18 epochs: 0.0515707443685156. Validation loss: 0.15212634480040935\n",
      "Training loss after 19 epochs: 0.045001966814982565. Validation loss: 0.15034309500414464\n",
      "Training loss after 20 epochs: 0.03884000591423414. Validation loss: 0.16584962130420738\n",
      "Training loss after 21 epochs: 0.033389577265726784. Validation loss: 0.18630639339486757\n",
      "Training loss after 22 epochs: 0.031968059298926835. Validation loss: 0.16451193138750064\n",
      "Training loss after 23 epochs: 0.030803375619093645. Validation loss: 0.15821237256750464\n",
      "Training loss after 24 epochs: 0.03252436901595801. Validation loss: 0.17528534815129307\n",
      "Training loss after 25 epochs: 0.028070050425674408. Validation loss: 0.17038855163587463\n",
      "Training loss after 26 epochs: 0.023882709829493948. Validation loss: 0.16930767298779553\n",
      "Training loss after 27 epochs: 0.02310657006056903. Validation loss: 0.16277644108049572\n",
      "Training loss after 28 epochs: 0.020901083000552878. Validation loss: 0.16772324157257876\n",
      "Training loss after 29 epochs: 0.01855824423526503. Validation loss: 0.18769281642097566\n",
      "Training loss after 30 epochs: 0.020646581053095935. Validation loss: 0.18535471314357388\n",
      "Training loss after 31 epochs: 0.018849666365932622. Validation loss: 0.17035075005454323\n",
      "Training loss after 32 epochs: 0.015159654435829248. Validation loss: 0.1653150553918547\n",
      "Training loss after 33 epochs: 0.015456146072621827. Validation loss: 0.17436061644305786\n",
      "Training loss after 34 epochs: 0.014661049918424695. Validation loss: 0.1765236667965332\n",
      "Training loss after 35 epochs: 0.012088190548102793. Validation loss: 0.19284110818989575\n",
      "Training loss after 36 epochs: 0.0116067672792618. Validation loss: 0.17680551054783994\n",
      "Training loss after 37 epochs: 0.011708699614096638. Validation loss: 0.18259600068752965\n",
      "Training loss after 38 epochs: 0.008565697161168217. Validation loss: 0.18401034160827598\n",
      "Training loss after 39 epochs: 0.009014401122391836. Validation loss: 0.1839885703391499\n"
     ]
    }
   ],
   "source": [
    "my_AttRNN = AttRNN_with_train(input_size=300,output_size=2,hidden_dim=20,att_size=40,prob=0.3,n_layers=1)\n",
    "\n",
    "#Call train\n",
    "\n",
    "my_AttRNN.fit(docs_train,docs_val,torch.Tensor(y_train),torch.Tensor(y_val),len_train,len_val,epochs=40,print_every=1)\n"
   ]
  },
  {
   "cell_type": "code",
   "execution_count": 394,
   "metadata": {},
   "outputs": [
    {
     "data": {
      "image/png": "[encoded data removed]",
      "text/plain": [
       "<Figure size 432x288 with 1 Axes>"
      ]
     },
     "metadata": {
      "image/png": {
       "height": 250,
       "width": 372
      },
      "needs_background": "light"
     },
     "output_type": "display_data"
    }
   ],
   "source": [
    "plt.plot(my_AttRNN.loss_during_training,label='Train_loss')\n",
    "plt.plot(my_AttRNN.valid_loss_during_training,label='Valid_loss')\n",
    "plt.legend()\n",
    "plt.grid()"
   ]
  },
  {
   "cell_type": "code",
   "execution_count": 395,
   "metadata": {},
   "outputs": [
    {
     "data": {
      "text/plain": [
       "<All keys matched successfully>"
      ]
     },
     "execution_count": 395,
     "metadata": {},
     "output_type": "execute_result"
    }
   ],
   "source": [
    "idx_min = np.argsort(my_AttRNN.valid_loss_during_training)\n",
    "\n",
    "my_AttRNN.load_state_dict(torch.load(my_AttRNN.saved_files+'_epoch_'+str(idx_min[0])+'.pth'))"
   ]
  },
  {
   "cell_type": "code",
   "execution_count": 396,
   "metadata": {},
   "outputs": [
    {
     "name": "stdout",
     "output_type": "stream",
     "text": [
      "The test accuracy is 0.9396853146853147\n"
     ]
    }
   ],
   "source": [
    "logprobs,acc,att_weights = my_AttRNN.predict_proba(docs_test,len_test,y_test)\n",
    "\n",
    "probs = np.exp(logprobs)  #YOUR CODE HERE\n",
    "\n",
    "print(f\"The test accuracy is {acc}\")"
   ]
  },
  {
   "cell_type": "code",
   "execution_count": 397,
   "metadata": {},
   "outputs": [
    {
     "data": {
      "image/png": "[encoded data removed]",
      "text/plain": [
       "<Figure size 432x288 with 1 Axes>"
      ]
     },
     "metadata": {
      "image/png": {
       "height": 277,
       "width": 385
      },
      "needs_background": "light"
     },
     "output_type": "display_data"
    },
    {
     "name": "stdout",
     "output_type": "stream",
     "text": [
      "AUC ROC for LSTM is 0.9573847467273762\n"
     ]
    }
   ],
   "source": [
    "from sklearn import metrics\n",
    "\n",
    "fpr, recall, thresholds = metrics.roc_curve(y_test, probs[:,1], pos_label=1) \n",
    "\n",
    "fig,ax = plt.subplots()\n",
    "plt.plot(fpr,recall,lw=2.5,label='ROC curve LSTM')\n",
    "plt.legend(loc=7)\n",
    "plt.grid(b=True, which='major', color='gray', alpha=0.6, linestyle='dotted', lw=1.5)\n",
    "plt.xlabel('False Positive Rate')\n",
    "plt.ylabel('Recall (R)')\n",
    "plt.title('Curva ROC')\n",
    "plt.show()\n",
    "\n",
    "area_roc_LSTM = metrics.roc_auc_score(y_test, probs[:,1])\n",
    "\n",
    "print(f\"AUC ROC for LSTM is {area_roc_LSTM}\")"
   ]
  },
  {
   "cell_type": "markdown",
   "metadata": {},
   "source": [
    "## Visualizing the attention weights"
   ]
  },
  {
   "cell_type": "code",
   "execution_count": 398,
   "metadata": {},
   "outputs": [],
   "source": [
    "att_weights = att_weights[:,:,0]"
   ]
  },
  {
   "cell_type": "code",
   "execution_count": 399,
   "metadata": {},
   "outputs": [
    {
     "data": {
      "image/png": "[encoded data removed]",
      "text/plain": [
       "<Figure size 864x720 with 2 Axes>"
      ]
     },
     "metadata": {
      "image/png": {
       "height": 574,
       "width": 498
      },
      "needs_background": "light"
     },
     "output_type": "display_data"
    }
   ],
   "source": [
    "plt.figure(figsize=(12, 10))\n",
    "\n",
    "plt.imshow(att_weights[:50,:], cmap='viridis', interpolation='nearest')\n",
    "plt.colorbar()\n",
    "plt.show()"
   ]
  },
  {
   "cell_type": "markdown",
   "metadata": {},
   "source": [
    "Lets visualize some particular documents ..."
   ]
  },
  {
   "cell_type": "code",
   "execution_count": 406,
   "metadata": {},
   "outputs": [
    {
     "data": {
      "image/png": "[encoded data removed]",
      "text/plain": [
       "<Figure size 720x576 with 1 Axes>"
      ]
     },
     "metadata": {
      "image/png": {
       "height": 498,
       "width": 595
      },
      "needs_background": "light"
     },
     "output_type": "display_data"
    }
   ],
   "source": [
    "d = 600\n",
    "fig = plt.figure(figsize=(10, 8))\n",
    "\n",
    "plt.stem(att_weights[d,:],use_line_collection=True)\n",
    "plt.xticks(range(max_l), [w.text for w in docs_test[d]],rotation=90)\n",
    "plt.show()"
   ]
  },
  {
   "cell_type": "code",
   "execution_count": 401,
   "metadata": {},
   "outputs": [
    {
     "data": {
      "text/plain": [
       "'Sullivan'"
      ]
     },
     "execution_count": 401,
     "metadata": {},
     "output_type": "execute_result"
    }
   ],
   "source": [
    "docs_test[0][0].text"
   ]
  },
  {
   "cell_type": "code",
   "execution_count": null,
   "metadata": {},
   "outputs": [],
   "source": []
  },
  {
   "cell_type": "code",
   "execution_count": null,
   "metadata": {},
   "outputs": [],
   "source": []
  }
 ],
 "metadata": {
  "kernelspec": {
   "display_name": "Python 3",
   "language": "python",
   "name": "python3"
  },
  "language_info": {
   "codemirror_mode": {
    "name": "ipython",
    "version": 3
   },
   "file_extension": ".py",
   "mimetype": "text/x-python",
   "name": "python",
   "nbconvert_exporter": "python",
   "pygments_lexer": "ipython3",
   "version": "3.6.10"
  }
 },
 "nbformat": 4,
 "nbformat_minor": 5
}
