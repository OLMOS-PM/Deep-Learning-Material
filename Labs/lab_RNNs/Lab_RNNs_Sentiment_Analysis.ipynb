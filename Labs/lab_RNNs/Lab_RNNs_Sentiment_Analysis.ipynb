{
 "cells": [
  {
   "cell_type": "markdown",
   "metadata": {},
   "source": [
    "# Lab: RNNs for Sentiment Analysis\n",
    "\n",
    "\n",
    "------------------------------------------------------\n",
    "\n",
    "*Pablo M. Olmos pamartin@ing.uc3m.es*\n",
    "\n",
    "\n",
    "------------------------------------------------------\n",
    "\n",
    "In this notebook we will deploy RNNs to perform sentiment analysis in a real dataset of finantial news. The required preprocesing using standard NLP libraries will be given to you (you have a course on NLP in the second term to learn this part) and your goal will be to define the RNN model, train it and validate the results.\n",
    "\n",
    "\n",
    "We will use the [Finantial Phrase Bank](https://www.researchgate.net/profile/Pekka-Malo/publication/251231364_FinancialPhraseBank-v10/data/0c96051eee4fb1d56e000000/FinancialPhraseBank-v10.zip), which contains  near 5000 sentences from finantial news:\n",
    "\n",
    "\n",
    ">*This release of the financial phrase bank covers a collection of 4840 sentences. The selected collection of phrases was annotated by 16 people with adequate background knowledge on financial markets. Three of the annotators were researchers and the remaining 13 annotators were master’s students at Aalto University School of Business with majors primarily in finance, accounting, and economics.*\n",
    ">\n",
    ">*The objective of the phrase level annotation task was to classify each example sentence into a positive, negative or neutral category by considering only the information explicitly available in the given sentence. Since the study is focused only on financial and economic domains, the annotators were asked to consider the sentences from the view point of an investor only; i.e. whether the news may have positive, negative or neutral influence on the stock price. As a result, sentences which have a sentiment that is not relevant from an economic or financial perspective are considered neutral.*\n",
    "\n",
    "Lets load the database and preprocess it using [SpaCy](https://spacy.io/). This part is all given to you, so no need to worry much.\n",
    "\n",
    "\n"
   ]
  },
  {
   "cell_type": "code",
   "execution_count": 86,
   "metadata": {},
   "outputs": [],
   "source": [
    "# To use it in colab, update spacy \n",
    "#!pip install --upgrade spacy "
   ]
  },
  {
   "cell_type": "code",
   "execution_count": 87,
   "metadata": {},
   "outputs": [],
   "source": [
    "# Download language model\n",
    "\n",
    "# !python -m spacy download en_core_web_md"
   ]
  },
  {
   "cell_type": "code",
   "execution_count": 88,
   "metadata": {},
   "outputs": [],
   "source": [
    "import numpy as np\n",
    "import pandas as pd\n",
    "import spacy\n",
    "\n",
    "\n",
    "%matplotlib inline\n",
    "%config InlineBackend.figure_format = 'retina' \n",
    "import matplotlib.pyplot as plt"
   ]
  },
  {
   "cell_type": "code",
   "execution_count": 89,
   "metadata": {},
   "outputs": [],
   "source": [
    "with open(\"Sentences.txt\", \"r\", encoding=\"ISO-8859-1\") as sentences:\n",
    "    lines = sentences.readlines()"
   ]
  },
  {
   "cell_type": "markdown",
   "metadata": {},
   "source": [
    "In lines, we have a list of sentences and an associted label, separated by the character `@`"
   ]
  },
  {
   "cell_type": "code",
   "execution_count": 90,
   "metadata": {},
   "outputs": [
    {
     "name": "stdout",
     "output_type": "stream",
     "text": [
      "According to Gran , the company has no plans to move all production to Russia , although that is where the company is growing .@neutral\n",
      "\n"
     ]
    }
   ],
   "source": [
    "print(lines[0])"
   ]
  },
  {
   "cell_type": "markdown",
   "metadata": {},
   "source": [
    "We split the sentence and we code with 0 neutral labels, with 1 negative labels, and with 2 positive labels"
   ]
  },
  {
   "cell_type": "code",
   "execution_count": 91,
   "metadata": {},
   "outputs": [],
   "source": [
    "phrases = [l.split('@')[0] for l in lines]\n",
    "opinions = [l.split('@')[1] for l in lines]\n",
    "\n",
    "\n",
    "def code_opinion(l):\n",
    "    \n",
    "    d = 0\n",
    "    \n",
    "    if (l=='negative\\n'):\n",
    "        \n",
    "        d = 1\n",
    "        \n",
    "    elif (l=='positive\\n'):\n",
    "        \n",
    "        d = 2\n",
    "        \n",
    "    return d\n",
    "\n",
    "labels = np.array([code_opinion(l) for l in opinions])\n",
    "    "
   ]
  },
  {
   "cell_type": "code",
   "execution_count": 92,
   "metadata": {},
   "outputs": [
    {
     "data": {
      "text/html": [
       "<div>\n",
       "<style scoped>\n",
       "    .dataframe tbody tr th:only-of-type {\n",
       "        vertical-align: middle;\n",
       "    }\n",
       "\n",
       "    .dataframe tbody tr th {\n",
       "        vertical-align: top;\n",
       "    }\n",
       "\n",
       "    .dataframe thead th {\n",
       "        text-align: right;\n",
       "    }\n",
       "</style>\n",
       "<table border=\"1\" class=\"dataframe\">\n",
       "  <thead>\n",
       "    <tr style=\"text-align: right;\">\n",
       "      <th></th>\n",
       "      <th>Phrase</th>\n",
       "      <th>Opinion</th>\n",
       "    </tr>\n",
       "  </thead>\n",
       "  <tbody>\n",
       "    <tr>\n",
       "      <th>0</th>\n",
       "      <td>According to Gran , the company has no plans t...</td>\n",
       "      <td>neutral\\n</td>\n",
       "    </tr>\n",
       "    <tr>\n",
       "      <th>1</th>\n",
       "      <td>With the new production plant the company woul...</td>\n",
       "      <td>positive\\n</td>\n",
       "    </tr>\n",
       "    <tr>\n",
       "      <th>2</th>\n",
       "      <td>For the last quarter of 2010 , Componenta 's n...</td>\n",
       "      <td>positive\\n</td>\n",
       "    </tr>\n",
       "    <tr>\n",
       "      <th>3</th>\n",
       "      <td>In the third quarter of 2010 , net sales incre...</td>\n",
       "      <td>positive\\n</td>\n",
       "    </tr>\n",
       "    <tr>\n",
       "      <th>4</th>\n",
       "      <td>Operating profit rose to EUR 13.1 mn from EUR ...</td>\n",
       "      <td>positive\\n</td>\n",
       "    </tr>\n",
       "    <tr>\n",
       "      <th>...</th>\n",
       "      <td>...</td>\n",
       "      <td>...</td>\n",
       "    </tr>\n",
       "    <tr>\n",
       "      <th>5712</th>\n",
       "      <td>Operating result for the 12-month period decre...</td>\n",
       "      <td>negative\\n</td>\n",
       "    </tr>\n",
       "    <tr>\n",
       "      <th>5713</th>\n",
       "      <td>HELSINKI Thomson Financial - Shares in Cargote...</td>\n",
       "      <td>negative\\n</td>\n",
       "    </tr>\n",
       "    <tr>\n",
       "      <th>5714</th>\n",
       "      <td>LONDON MarketWatch -- Share prices ended lower...</td>\n",
       "      <td>negative\\n</td>\n",
       "    </tr>\n",
       "    <tr>\n",
       "      <th>5715</th>\n",
       "      <td>Operating profit fell to EUR 35.4 mn from EUR ...</td>\n",
       "      <td>negative\\n</td>\n",
       "    </tr>\n",
       "    <tr>\n",
       "      <th>5716</th>\n",
       "      <td>Sales in Finland decreased by 10.5 % in Januar...</td>\n",
       "      <td>negative\\n</td>\n",
       "    </tr>\n",
       "  </tbody>\n",
       "</table>\n",
       "<p>5717 rows × 2 columns</p>\n",
       "</div>"
      ],
      "text/plain": [
       "                                                 Phrase     Opinion\n",
       "0     According to Gran , the company has no plans t...   neutral\\n\n",
       "1     With the new production plant the company woul...  positive\\n\n",
       "2     For the last quarter of 2010 , Componenta 's n...  positive\\n\n",
       "3     In the third quarter of 2010 , net sales incre...  positive\\n\n",
       "4     Operating profit rose to EUR 13.1 mn from EUR ...  positive\\n\n",
       "...                                                 ...         ...\n",
       "5712  Operating result for the 12-month period decre...  negative\\n\n",
       "5713  HELSINKI Thomson Financial - Shares in Cargote...  negative\\n\n",
       "5714  LONDON MarketWatch -- Share prices ended lower...  negative\\n\n",
       "5715  Operating profit fell to EUR 35.4 mn from EUR ...  negative\\n\n",
       "5716  Sales in Finland decreased by 10.5 % in Januar...  negative\\n\n",
       "\n",
       "[5717 rows x 2 columns]"
      ]
     },
     "execution_count": 92,
     "metadata": {},
     "output_type": "execute_result"
    }
   ],
   "source": [
    "df = pd.DataFrame({\"Phrase\":phrases,\n",
    "                  \"Opinion\":opinions})\n",
    "\n",
    "df"
   ]
  },
  {
   "cell_type": "markdown",
   "metadata": {},
   "source": [
    "Lets plot the histogram of the labels ..."
   ]
  },
  {
   "cell_type": "code",
   "execution_count": 93,
   "metadata": {},
   "outputs": [
    {
     "data": {
      "image/png": "[encoded data removed]",
      "text/plain": [
       "<Figure size 432x288 with 1 Axes>"
      ]
     },
     "metadata": {
      "image/png": {
       "height": 277,
       "width": 383
      },
      "needs_background": "light"
     },
     "output_type": "display_data"
    }
   ],
   "source": [
    "fig,ax = plt.subplots(1,1)\n",
    "\n",
    "ax.hist(labels)\n",
    "ax.set_xticks([0,1,2])\n",
    "ax.set_xticklabels(['Neutral','Negative','Positive'],rotation=45)\n",
    "ax.grid()\n"
   ]
  },
  {
   "cell_type": "markdown",
   "metadata": {},
   "source": [
    "To simplify the problem, we're fusing together *Neutral* and *Positive* labels. So label 1 is *Negative review* and label 0 is *Positive+Neutral*. Also, we separate between train, validation and test."
   ]
  },
  {
   "cell_type": "code",
   "execution_count": 94,
   "metadata": {},
   "outputs": [],
   "source": [
    "from sklearn.model_selection import train_test_split\n",
    "\n",
    "labels_bin = labels.copy()\n",
    "\n",
    "labels_bin[labels_bin==2] = 0 \n",
    "\n",
    "idx_data = np.arange(0,len(df),1)\n",
    "\n",
    "# Separamos train de test\n",
    "idx_train, idx_test, y_train, y_test = train_test_split(idx_data, labels_bin, test_size=0.2, random_state=0)\n",
    "\n",
    "# Separamos train de val\n",
    "idx_train, idx_val, y_train, y_val = train_test_split(idx_train, y_train, test_size=0.2, random_state=0)\n",
    "\n",
    "acc_baseline_train = np.sum(y_train==0)/y_train.shape[0]"
   ]
  },
  {
   "cell_type": "markdown",
   "metadata": {},
   "source": [
    "### Text pre-processing"
   ]
  },
  {
   "cell_type": "markdown",
   "metadata": {},
   "source": [
    "With the following code, we pre-process using Spacy each sentence by removing words that are punctuation marks. We also remove [stopping words](https://nlp.stanford.edu/IR-book/html/htmledition/dropping-common-terms-stop-words-1.html) (words that are not very informative). As a result, we have the list `norm_docs`. "
   ]
  },
  {
   "cell_type": "code",
   "execution_count": 95,
   "metadata": {},
   "outputs": [],
   "source": [
    "nlp = spacy.load(\"en_core_web_md\") # Language model\n",
    "\n",
    "\n",
    "docs = [nlp(c) for c in phrases]\n",
    "\n",
    "# We remove punctuation marks (.,;:?!...) and stopping words\n",
    "def normalize(doc):\n",
    "    \n",
    "    return [w for w in doc if w.has_vector and not w.is_punct and not w.is_stop]\n",
    "\n",
    "norm_docs = [normalize(d) for d in docs]\n",
    "\n"
   ]
  },
  {
   "cell_type": "markdown",
   "metadata": {},
   "source": [
    "Every item of `norm_docs` corresponds to each of the sentences in the dataset. Each item is itself a list of spacy tokens (basically words with different attributes). The most important attribute for us the the *word embedding vector*. For instance, lets print the first sentence"
   ]
  },
  {
   "cell_type": "code",
   "execution_count": 96,
   "metadata": {},
   "outputs": [
    {
     "name": "stdout",
     "output_type": "stream",
     "text": [
      "The first original sentence is: According to Gran , the company has no plans to move all production to Russia , although that is where the company is growing .\n",
      "\n",
      "The first normalized sentence is: [According, Gran, company, plans, production, Russia, company, growing]. The length of the document is 8 tokens\n"
     ]
    }
   ],
   "source": [
    "print(f'The first original sentence is: {phrases[0]}\\n')\n",
    "\n",
    "print(f'The first normalized sentence is: {norm_docs[0]}. The length of the document is {len(norm_docs[0])} tokens')"
   ]
  },
  {
   "cell_type": "markdown",
   "metadata": {},
   "source": [
    "We can access to the word embedding of each token using the attribute `.vector`:"
   ]
  },
  {
   "cell_type": "code",
   "execution_count": 97,
   "metadata": {},
   "outputs": [
    {
     "name": "stdout",
     "output_type": "stream",
     "text": [
      "The word embedding associated with the token According is\n",
      "\n",
      "[-1.8993e-01  7.0686e-03  2.2466e-01  1.1441e-01 -1.7058e-01 -2.0702e-02\n",
      "  1.0430e-01  6.1981e-02 -5.4537e-02  2.6813e+00 -2.8966e-01  2.2361e-01\n",
      " -2.1493e-02  2.9268e-01 -2.5843e-01 -5.3807e-01  3.3709e-01  1.1680e+00\n",
      "  1.6551e-01  6.5886e-02  1.4446e-01  3.4677e-01 -1.2809e-01 -3.8114e-02\n",
      "  2.2085e-01  1.9886e-01 -4.1755e-01  1.6474e-01 -2.2054e-01 -2.7242e-02\n",
      "  8.8179e-02  2.7589e-01  2.5669e-01  2.1639e-01  1.6127e-01  4.2795e-01\n",
      "  2.0554e-04 -1.3096e-01  5.1889e-02 -1.1941e-01 -2.0728e-01  6.0784e-02\n",
      "  1.7197e-01 -2.6056e-02 -2.5960e-01 -2.7028e-01  6.9555e-02 -1.3087e-01\n",
      "  1.0921e-01 -1.2391e-01 -1.8302e-01 -2.8909e-01 -3.3452e-01 -2.5565e-01\n",
      " -2.6496e-01 -2.8909e-01 -5.6848e-02  4.3846e-01  1.4577e-01 -2.0472e-01\n",
      "  3.2083e-01 -5.1273e-02 -1.8690e-01  3.8355e-01 -3.7892e-01  1.7339e-01\n",
      " -3.8200e-01  8.3093e-03  2.6051e-01  3.4202e-01 -1.5279e-01 -3.1518e-01\n",
      "  2.8419e-01 -3.4394e-01 -4.3389e-01  2.5400e-02  5.4666e-02  2.5287e-02\n",
      "  3.7150e-02 -9.6571e-02 -9.5979e-02  1.0017e-01  2.3045e-01 -5.3984e-01\n",
      "  4.8986e-01 -3.0572e-01 -4.6670e-01 -3.4749e-01 -1.3676e-01  8.1734e-02\n",
      "  1.3511e-01 -4.8939e-01  7.7483e-02  4.2916e-01  2.6831e-01 -7.2884e-01\n",
      "  4.3748e-03 -3.2006e-01  5.0046e-01 -3.0165e-01 -3.0323e-01  2.5327e-01\n",
      "  8.9182e-02  3.3106e-01 -2.9512e-01 -1.2087e+00 -2.2366e-01 -5.9588e-03\n",
      "  1.0453e-01 -1.2589e-01 -2.5982e-01 -1.9473e-01  1.1677e-01  3.5060e-01\n",
      " -1.4314e-01  3.2697e-01 -3.4176e-01 -1.1094e-02  1.9588e-01  4.1581e-01\n",
      " -3.3605e-01  2.4461e-01  2.3403e-01 -2.4954e-01 -1.5732e-01 -2.1330e-01\n",
      "  6.9520e-02 -2.5440e-01  1.0766e-01 -2.0254e-01 -9.3820e-02  1.4896e-01\n",
      "  7.9366e-02  4.5313e-03 -1.5086e-01 -1.7995e-01  3.7342e-01 -1.9216e-01\n",
      "  1.8786e-02  1.3460e-01  1.8879e-01  1.3989e-01 -3.0652e-01 -2.3486e-01\n",
      " -1.8449e-02 -2.2784e-01 -7.8468e-02 -7.8321e-02 -5.4143e-01 -6.6833e-02\n",
      " -4.1662e-01 -3.0948e-01 -3.4766e-01 -1.7301e-01 -2.7114e-02 -1.7407e-02\n",
      " -5.8048e-01 -6.7615e-02 -5.9729e-01 -3.6836e-01  2.1923e-01  6.0040e-02\n",
      " -1.9276e-02 -1.1337e-01 -6.3726e-01 -6.8070e-02  2.6494e-01  4.8095e-01\n",
      "  2.3270e-01 -1.4958e-01  3.1114e-01 -2.9885e-01  6.9476e-02 -3.1345e-01\n",
      " -5.1856e-02 -3.6385e-02 -1.7206e-02 -2.3519e-01 -4.9092e-01 -2.8239e-02\n",
      "  1.5078e-01 -2.4235e-01 -1.5832e-01 -3.2814e-01 -1.5679e-01  1.3254e-01\n",
      " -1.0777e-01  4.1455e-01 -1.0009e-01 -1.2885e-02 -1.4448e-01 -1.2791e-01\n",
      " -3.9475e-02  2.1510e-01  1.2238e-01 -3.3588e-02 -2.0693e-01  1.4928e-01\n",
      " -6.3518e-01 -1.0450e-01 -1.9221e-01  1.9069e-01  8.6693e-02  1.1094e-01\n",
      "  2.6129e-01 -1.4292e-01  2.3232e-02  9.8486e-02 -3.3350e-01  4.5484e-01\n",
      " -1.3709e-01 -7.0665e-02 -2.7499e-02 -4.3068e-01 -9.3009e-02 -1.4344e-01\n",
      "  3.5110e-02  2.7836e-01 -6.4248e-02  5.2333e-01 -9.7716e-02 -2.1625e-03\n",
      " -1.8465e-01 -1.2521e-01 -1.6948e-01  8.7241e-02 -1.0967e-01  1.9509e-01\n",
      " -1.9476e-01  4.8711e-01 -1.2908e-01  3.2615e-02 -2.2325e-01 -1.2969e-01\n",
      " -2.4754e-01 -4.7545e-01 -2.0426e-01  1.1904e-01 -4.0961e-02  9.3465e-02\n",
      " -3.3273e-02 -2.9438e-01  3.2710e-01 -2.7854e-01 -1.4755e-01  1.8109e-01\n",
      "  6.9048e-01 -2.1920e-01 -6.4973e-02 -1.4354e-01  2.4438e-01  4.1723e-01\n",
      " -1.2439e-01  2.5597e-02  3.0365e-01  6.6654e-01  7.1379e-01  7.5289e-02\n",
      "  2.4058e-01 -6.4689e-01  4.1786e-01  7.6298e-02 -6.3747e-01 -3.5962e-01\n",
      " -2.6824e-01 -1.1627e-01 -1.4457e-01  2.1653e-01  5.3438e-01 -3.3340e-01\n",
      "  3.0143e-01 -1.1401e-01  3.7102e-01  7.8981e-02 -5.1384e-01  1.2731e-01\n",
      " -1.6182e-01  4.0541e-01 -1.0330e-01  1.2183e-01 -6.1055e-02  3.6546e-02\n",
      "  2.1822e-01 -3.0534e-01 -2.1566e-01 -9.8874e-02 -4.7560e-01 -1.8452e-01\n",
      "  4.4087e-01  3.1060e-01 -3.5734e-01 -1.7614e-01  3.5858e-01  1.9078e-01\n",
      "  1.5560e-02 -4.7775e-01 -4.9878e-01 -4.8321e-02  1.4697e-01  2.3141e-01]\n"
     ]
    }
   ],
   "source": [
    "print(f'The word embedding associated with the token {norm_docs[0][0].text} is\\n')\n",
    "print(norm_docs[0][0].vector)"
   ]
  },
  {
   "cell_type": "markdown",
   "metadata": {},
   "source": [
    "You can check that the word embedding dimension is 300 ..."
   ]
  },
  {
   "cell_type": "code",
   "execution_count": 98,
   "metadata": {},
   "outputs": [
    {
     "name": "stdout",
     "output_type": "stream",
     "text": [
      "The WE dimension is (300,)\n"
     ]
    }
   ],
   "source": [
    "print(f'The WE dimension is {norm_docs[0][0].vector.shape}')"
   ]
  },
  {
   "cell_type": "markdown",
   "metadata": {},
   "source": [
    "### Length normalization\n",
    "\n",
    "Note that in this problem we're working with sequences of text of different length. This is in principle not a problem for RNNs. However, there's one additional pre-processing step that we have to do. When we feed the RNN function **all sequences in the mini-batch must have the same length**. Then we will use the corresponding state to make the prediction.\n",
    "\n",
    "For simplicity, we are taking here a non-efficient solution. Instead of normalize lengths at a batch level, we are normalizing the whole dataset so all sequences have the same length. To do so, we're adding **junk tokens** to all sentences so they artificially are of the same length. However, we will keep in a list the real length of each data, since the sentiment analysis prediction will be made using the RNN state corresponding to the **last real token**.\n",
    "\n"
   ]
  },
  {
   "cell_type": "code",
   "execution_count": 99,
   "metadata": {},
   "outputs": [],
   "source": [
    "# List with the length for each sentence\n",
    "\n",
    "lengths = [len(d) for d in norm_docs]\n",
    "\n",
    "# Maximum length (in train!)\n",
    "max_l = np.max([lengths[d] for d in idx_train])"
   ]
  },
  {
   "cell_type": "code",
   "execution_count": 100,
   "metadata": {},
   "outputs": [],
   "source": [
    "# We add as many junk tokens (#) as needed to equalize the length of each sentence to max_l\n",
    "\n",
    "garbage_token = nlp('#') # Junk token --> #\n",
    "\n",
    "# We normalize the dataset\n",
    "\n",
    "norm_docs_eq_length = [norm_docs[d]+[garbage_token]*(max_l-lengths[d]) for d in range(len(norm_docs))]\n",
    "\n",
    "# Train documents\n",
    "\n",
    "docs_train = [norm_docs_eq_length[d] for d in idx_train]\n",
    "\n",
    "len_train = [lengths[d] for d in idx_train]\n",
    "\n",
    "# Validation documents\n",
    "\n",
    "docs_val = [norm_docs_eq_length[d] for d in idx_val]\n",
    "\n",
    "len_val = [lengths[d] for d in idx_val]\n",
    "\n",
    "# documentos test\n",
    "\n",
    "docs_test = [norm_docs_eq_length[d] for d in idx_test]\n",
    "\n",
    "len_test = [lengths[d] for d in idx_test]"
   ]
  },
  {
   "cell_type": "markdown",
   "metadata": {},
   "source": [
    "Recall that for each document, the sequence of word embeddings is obtained using the `.vector` attribute per token ..."
   ]
  },
  {
   "cell_type": "markdown",
   "metadata": {},
   "source": [
    "### RNN classification\n",
    "\n",
    "Our goal is to implement an LSTM that takes as input the sequence of word embeddings and predicts the binary label. In the list `lengths` we have the length per document (before adding the junk tokens). The LSTM prediction **must be done using the LSTM state after processing the last real token**. That means we ignore the LSTM states after we start processing the junk tokens.\n",
    "\n",
    "\n",
    "A few comments:\n",
    "\n",
    "- The LSTM is trained using mini-batches. So the input is a tensor of dimension (batch_size, seq_length, max_l). You have to generate this tensor using the lists implemented before (`docs_train`, `docs_val`, `docs_test`).\n",
    "- You don't care about the LSTM initializaiton. Use the default one.\n",
    "- The LSTM provides the list of states upon processing the sequences of max_l word embeddings. For each sentence, you have to predict the label using the appropiate state (the one after processing the last real word). My advise is that you store in a list the decision states for each data in the minibatch and then concatenate them in a tensor using `torch.stack`.\n",
    "- We will use a single MLP layer to perform the prediction. Between the LSTM and the MLP, we include a dropout layer. \n",
    "- The network will take some time to train, so my advise is to save the network parameters after each epoch (in a separate file), so early stopping can be implemented without re-training.\n",
    "- Validate the dimension of the LSTM state.\n",
    "\n",
    "<img src='http://www.tsc.uc3m.es/~olmos/BBVA/RNN.png' width=800 />\n",
    "\n",
    "\n"
   ]
  },
  {
   "cell_type": "code",
   "execution_count": 101,
   "metadata": {},
   "outputs": [],
   "source": [
    "from torch import nn\n",
    "from torch import optim\n",
    "import torch"
   ]
  },
  {
   "cell_type": "markdown",
   "metadata": {},
   "source": [
    ">**Exercise:** Complete the following code to construct the RNN classifier"
   ]
  },
  {
   "cell_type": "code",
   "execution_count": 102,
   "metadata": {},
   "outputs": [],
   "source": [
    "class RNN(nn.Module):\n",
    "    def __init__(self, input_size, output_size, hidden_dim, n_layers,prob=0.5):\n",
    "        \n",
    "        \n",
    "        super().__init__()\n",
    "        \n",
    "        self.hidden_dim = hidden_dim\n",
    "        \n",
    "        self.input_size = input_size\n",
    "        \n",
    "        # Capa LSTM\n",
    "        # batch_first=True significa que la primera dimensión del tensor de entrada indexa datos distintos\n",
    "        self.rnn = nn.LSTM(input_size, hidden_dim, n_layers, dropout=prob, batch_first=True)\n",
    "        \n",
    "        # last, fully-connected layer\n",
    "        self.fc1 = nn.Linear(hidden_dim, output_size) \n",
    "        \n",
    "        self.logsoftmax = nn.LogSoftmax(dim=1) \n",
    "        \n",
    "        # Capa dropout \n",
    "        \n",
    "        self.dropout = nn.Dropout(p=prob)\n",
    "\n",
    "    def forward(self, x, lengths, h0=None):\n",
    "        \n",
    "        '''\n",
    "        \n",
    "        - x: Sequences of word embeddings. Dimensions (batch_size, max_l, word_embedding_size)\n",
    "        - lengths: The real length of each sequence, excluding the junk # tokens! You use this to know what\n",
    "          RNN state you should use to classify\n",
    "\n",
    "        '''\n",
    "        \n",
    "        batch_size = x.size(0) \n",
    "        seq_length = x.size(1) \n",
    "        \n",
    "        # Compute the RNN output (sequence of states for the whole input)\n",
    "        r_out, _ = self.rnn(x, h0) #YOUR CODE HERE\n",
    "        \n",
    "        # Now it comes the tricky part. You have to stack in a (batch_size, hidden_dim) tensor, the right state\n",
    "        # for each sequece. Namely, the state after processing the last real token (not the junk # ones)\n",
    "        # The function torch.stack() can be handy\n",
    "        \n",
    "        #aux = YOUR CODE HERE\n",
    "        \n",
    "        aux = torch.stack([r_out[[d],lengths[d]-1,:] for d in range(batch_size)]).reshape([-1,self.hidden_dim])\n",
    "        \n",
    "        # We classify using such tensor\n",
    "        \n",
    "        output = self.logsoftmax(self.fc1(self.dropout(aux)))\n",
    "    \n",
    "        \n",
    "        return output"
   ]
  },
  {
   "cell_type": "markdown",
   "metadata": {},
   "source": [
    "Let's first illustrate how we can get the output of the (untrained) RNN network given our texts. For example, let's get the RNN output for the first three training texts. The first step is to get the **sequences of word embeddings** of each of them..."
   ]
  },
  {
   "cell_type": "code",
   "execution_count": 103,
   "metadata": {},
   "outputs": [],
   "source": [
    "idx = [1,2,3]\n",
    "\n",
    "#[w.vector for w in docs_train[d]] generates the list of word vectors for the d-th document \n",
    "x_input = torch.Tensor([[w.vector for w in docs_train[d]] for d in idx])"
   ]
  },
  {
   "cell_type": "code",
   "execution_count": 104,
   "metadata": {},
   "outputs": [
    {
     "data": {
      "text/plain": [
       "(15, 300)"
      ]
     },
     "execution_count": 104,
     "metadata": {},
     "output_type": "execute_result"
    }
   ],
   "source": [
    "d=1\n",
    "\n",
    "np.array([docs_train[d][w].vector for w in range(len_train[d])]).shape"
   ]
  },
  {
   "cell_type": "code",
   "execution_count": 105,
   "metadata": {},
   "outputs": [],
   "source": [
    "aux = torch.Tensor([np.mean([docs_train[d][w].vector for w in range(len_train[d])],0) for d in idx])"
   ]
  },
  {
   "cell_type": "markdown",
   "metadata": {},
   "source": [
    "The shape of `x_input` should be (3,max_l,300)"
   ]
  },
  {
   "cell_type": "code",
   "execution_count": 106,
   "metadata": {},
   "outputs": [
    {
     "data": {
      "text/plain": [
       "torch.Size([3, 35, 300])"
      ]
     },
     "execution_count": 106,
     "metadata": {},
     "output_type": "execute_result"
    }
   ],
   "source": [
    "x_input.shape"
   ]
  },
  {
   "cell_type": "markdown",
   "metadata": {},
   "source": [
    "Let's instantiate the RNN class"
   ]
  },
  {
   "cell_type": "code",
   "execution_count": 107,
   "metadata": {},
   "outputs": [
    {
     "name": "stderr",
     "output_type": "stream",
     "text": [
      "/Users/olmos/opt/anaconda3/envs/gensim4/lib/python3.9/site-packages/torch/nn/modules/rnn.py:71: UserWarning: dropout option adds dropout after all but last recurrent layer, so non-zero dropout expects num_layers greater than 1, but got dropout=0.5 and num_layers=1\n",
      "  warnings.warn(\"dropout option adds dropout after all but last \"\n"
     ]
    }
   ],
   "source": [
    "my_RNN = RNN(300,2,20,1)"
   ]
  },
  {
   "cell_type": "markdown",
   "metadata": {},
   "source": [
    "> **Exercise:** evaluate the RNN otuput for `x_input` and check that the ouput dimensions make sense"
   ]
  },
  {
   "cell_type": "code",
   "execution_count": 108,
   "metadata": {},
   "outputs": [],
   "source": [
    "o = my_RNN.forward(torch.Tensor(x_input),[lengths[d] for d in idx])"
   ]
  },
  {
   "cell_type": "code",
   "execution_count": 109,
   "metadata": {},
   "outputs": [
    {
     "name": "stdout",
     "output_type": "stream",
     "text": [
      "tensor([[-0.4974, -0.9367],\n",
      "        [-0.5422, -0.8711],\n",
      "        [-0.6051, -0.7897]], grad_fn=<LogSoftmaxBackward0>)\n"
     ]
    }
   ],
   "source": [
    "print(o)"
   ]
  },
  {
   "cell_type": "code",
   "execution_count": 110,
   "metadata": {},
   "outputs": [
    {
     "data": {
      "text/plain": [
       "torch.Size([3, 2])"
      ]
     },
     "execution_count": 110,
     "metadata": {},
     "output_type": "execute_result"
    }
   ],
   "source": [
    "o.shape"
   ]
  },
  {
   "cell_type": "markdown",
   "metadata": {},
   "source": [
    "> **Exercise:** Complete the following class, which inherits the previous one and it adds a training loop, an evaluation method, and functionalities to save the model every few epochs"
   ]
  },
  {
   "cell_type": "code",
   "execution_count": 113,
   "metadata": {},
   "outputs": [],
   "source": [
    "class RNN_with_train(RNN):\n",
    "    \n",
    "    def __init__(self,input_size, output_size, hidden_dim, n_layers,prob=0.0,batch_size=50,lr=0.0005,saved_files='./saved_models/RNN_sentiment_analysis'):\n",
    "        \n",
    "        super().__init__(input_size, output_size, hidden_dim, n_layers,prob)  \n",
    "        \n",
    "        self.lr = lr # Learning Rate\n",
    "        \n",
    "        self.optim = optim.Adam(self.parameters(), self.lr) # Optimizer\n",
    "        \n",
    "        self.criterion = nn.NLLLoss()               \n",
    "        \n",
    "        self.loss_during_training = [] \n",
    "        \n",
    "        self.valid_loss_during_training = [] \n",
    "        \n",
    "        self.batch_size = batch_size\n",
    "        \n",
    "        self.saved_files = saved_files\n",
    "        \n",
    "        \n",
    "    def predict_proba(self,docs,lengths,Y=None):\n",
    "        \n",
    "        '''\n",
    "        We use this method to get the output of the network given a set of documents. If label is provided,\n",
    "        we get accuracy.\n",
    "        \n",
    "        - docs: documents, each encoded as a list of spacy tokens. They are length-normalized.\n",
    "        - lengths: real length of each document.\n",
    "        - Y: labels\n",
    "        '''\n",
    "        accuracy = 0.0\n",
    "        \n",
    "        with torch.no_grad(): \n",
    "        \n",
    "            x_input = torch.Tensor([[w.vector for w in d] for d in docs])\n",
    "        \n",
    "            logprobs = self.forward(x_input,lengths).detach().numpy()\n",
    "            \n",
    "            if(len(Y)>0):\n",
    "            \n",
    "                accuracy = np.sum(np.argmax(logprobs,1)==Y)/np.shape(Y)[0]\n",
    "            \n",
    "        return logprobs,accuracy\n",
    "            \n",
    "        \n",
    "    def fit(self,docs_train,docs_val,Y,Yval,len_train,len_val,epochs=100,print_every=5):\n",
    "        \n",
    "        '''\n",
    "        Método de entrenamiento.\n",
    "        \n",
    "        - docs_train, docs_val: training/validation documents  (each is a list of spacy tokens). \n",
    "          Normalized in length!\n",
    "        - len_train/len_val: real lengths\n",
    "        '''\n",
    "        \n",
    "        self.print_every = print_every\n",
    "        \n",
    "        self.epochs=epochs\n",
    "        \n",
    "        # Optimization Loop\n",
    "        \n",
    "        self.num_train = len(docs_train) # Number of training points\n",
    "        \n",
    "        self.num_batchs = np.floor(self.num_train/self.batch_size) # Number of training batches\n",
    "        \n",
    "        self.num_val = len(docs_val) # Number of validation points\n",
    "        \n",
    "        self.num_batchs_val = np.floor(self.num_val/self.batch_size) # Numero of validation batches\n",
    "        \n",
    "        labels = torch.Tensor(Y).type(torch.LongTensor) # Training labels\n",
    "        \n",
    "        labelsval = torch.Tensor(Yval).type(torch.LongTensor) # Validation labels\n",
    "        \n",
    "        \n",
    "        for e in range(int(self.epochs)):\n",
    "            \n",
    "            self.train() # Activate dropout\n",
    "            \n",
    "            # Random data permutation\n",
    "            \n",
    "            idx = np.random.permutation(self.num_train)\n",
    "            \n",
    "            running_loss = 0.\n",
    "            \n",
    "            for i in range(int(self.num_batchs)):\n",
    "                        \n",
    "                self.optim.zero_grad()  \n",
    "\n",
    "                # Indices of the data entering the batch\n",
    "\n",
    "                idx_batch = idx[i*self.batch_size:(i+1)*self.batch_size]\n",
    "                \n",
    "                # Just in case there are empty documents, we ignore them\n",
    "                idx_batch = [d for d in idx_batch if len_train[d]>0]\n",
    "                \n",
    "                # We code each document using the sequences of word embeddings\n",
    "                \n",
    "                x_input = torch.Tensor([[w.vector for w in docs_train[d]] for d in idx_batch])\n",
    "                \n",
    "                # We compute the classifier output for every data\n",
    "\n",
    "                out = self.forward(x_input,[len_train[d] for d in idx_batch])\n",
    "                \n",
    "                # Cost function and gradient descent step\n",
    "\n",
    "                loss = self.criterion(out,labels[idx_batch])\n",
    "                \n",
    "                running_loss += loss.item()\n",
    "\n",
    "                loss.backward()\n",
    "\n",
    "                # Gradient clipping\n",
    "                nn.utils.clip_grad_norm_(self.parameters(), 2.0)\n",
    "                \n",
    "                # SGD steps\n",
    "                \n",
    "                self.optim.step()\n",
    "                \n",
    "            self.loss_during_training.append(running_loss/self.num_batchs)\n",
    "            \n",
    "            # We save model parameters\n",
    "            \n",
    "            torch.save(self.state_dict(), self.saved_files+'_epoch_'+str(e)+'.pth')\n",
    "            \n",
    "            # We repeat for validation\n",
    "            \n",
    "            with torch.no_grad(): \n",
    "                \n",
    "                # set model to evaluation mode\n",
    "                self.eval()\n",
    "                \n",
    "                running_loss = 0.\n",
    "                \n",
    "                idx = np.random.permutation(self.num_val)\n",
    "\n",
    "                running_loss = 0.\n",
    "                \n",
    "                for i in range(int(self.num_batchs_val)):\n",
    "                    \n",
    "                    idx_batch = idx[i*self.batch_size:(i+1)*self.batch_size] \n",
    "                    \n",
    "                    # Just in case there are empty documents, we ignore them\n",
    "                    idx_batch = [d for d in idx_batch if len_val[d]>0]\n",
    "                    \n",
    "                    x_input = torch.Tensor([[w.vector for w in docs_val[d]] for d in idx_batch])\n",
    "\n",
    "                    out = self.forward(x_input,[len_val[d] for d in idx_batch])\n",
    "\n",
    "                    loss = self.criterion(out,labelsval[idx_batch])\n",
    "\n",
    "                    running_loss += loss.item() \n",
    "                    \n",
    "                self.valid_loss_during_training.append(running_loss/self.num_batchs_val)    \n",
    "                    \n",
    "                \n",
    "\n",
    "            if(e % self.print_every == 0): \n",
    "\n",
    "                print(f\"Training loss after {e} epochs: {self.loss_during_training[-1]}. Validation loss: {self.valid_loss_during_training[-1]}\")"
   ]
  },
  {
   "cell_type": "markdown",
   "metadata": {},
   "source": [
    "> **Exercise:** Instantiate and train the class using a hidden state of 20 dimensions and dropout probability equal to 0.3. Train for 40 epochs (can take a while)"
   ]
  },
  {
   "cell_type": "code",
   "execution_count": 114,
   "metadata": {},
   "outputs": [
    {
     "name": "stdout",
     "output_type": "stream",
     "text": [
      "Training loss after 0 epochs: 0.5306705109877129. Validation loss: 0.3933545599381129\n",
      "Training loss after 1 epochs: 0.3698359872788599. Validation loss: 0.30500287893745637\n",
      "Training loss after 2 epochs: 0.3211471401665309. Validation loss: 0.28360309327642125\n",
      "Training loss after 3 epochs: 0.2965679450394356. Validation loss: 0.27722181462579304\n",
      "Training loss after 4 epochs: 0.2791199802535854. Validation loss: 0.25893763701121014\n",
      "Training loss after 5 epochs: 0.2597833716706054. Validation loss: 0.24633538640207714\n",
      "Training loss after 6 epochs: 0.23214315745520264. Validation loss: 0.22881822205252117\n",
      "Training loss after 7 epochs: 0.20352319383049663. Validation loss: 0.2065146275692516\n",
      "Training loss after 8 epochs: 0.1837979506139886. Validation loss: 0.19652198337846333\n",
      "Training loss after 9 epochs: 0.16151303517287724. Validation loss: 0.18140379587809244\n",
      "Training loss after 10 epochs: 0.14544808859490369. Validation loss: 0.17250643049677214\n",
      "Training loss after 11 epochs: 0.13450849280781943. Validation loss: 0.16189851756725046\n",
      "Training loss after 12 epochs: 0.11713527000113709. Validation loss: 0.15172242062787214\n",
      "Training loss after 13 epochs: 0.11084763848618286. Validation loss: 0.14998815146585306\n",
      "Training loss after 14 epochs: 0.09728949767065374. Validation loss: 0.13525065862470204\n",
      "Training loss after 15 epochs: 0.08632216232586397. Validation loss: 0.12876340188086033\n",
      "Training loss after 16 epochs: 0.07535973908252096. Validation loss: 0.12078190646651718\n",
      "Training loss after 17 epochs: 0.0651858110516651. Validation loss: 0.12968384184771115\n",
      "Training loss after 18 epochs: 0.060350225804603266. Validation loss: 0.12017274896303813\n",
      "Training loss after 19 epochs: 0.05638289903226781. Validation loss: 0.11362415738403797\n",
      "Training loss after 20 epochs: 0.05144635894118923. Validation loss: 0.12535444564289516\n",
      "Training loss after 21 epochs: 0.05078517692801479. Validation loss: 0.11895265083553062\n",
      "Training loss after 22 epochs: 0.04166275889880649. Validation loss: 0.1217149475382434\n",
      "Training loss after 23 epochs: 0.03608671198152516. Validation loss: 0.12652184643472233\n",
      "Training loss after 24 epochs: 0.0314719648649023. Validation loss: 0.12467799987643957\n",
      "Training loss after 25 epochs: 0.025541866000435533. Validation loss: 0.12355585851603085\n",
      "Training loss after 26 epochs: 0.024277904973531217. Validation loss: 0.13667842770357513\n",
      "Training loss after 27 epochs: 0.02220548794936542. Validation loss: 0.13847172079193923\n",
      "Training loss after 28 epochs: 0.021298361334579755. Validation loss: 0.13190540650652516\n",
      "Training loss after 29 epochs: 0.017302704222296197. Validation loss: 0.15971079512706232\n",
      "Training loss after 30 epochs: 0.01639176381924126. Validation loss: 0.14664901565346453\n",
      "Training loss after 31 epochs: 0.01816582309452128. Validation loss: 0.15016375595587306\n",
      "Training loss after 32 epochs: 0.017550649386128946. Validation loss: 0.14516797807947215\n",
      "Training loss after 33 epochs: 0.013099628025410722. Validation loss: 0.15556134533188823\n",
      "Training loss after 34 epochs: 0.013671191875688885. Validation loss: 0.15387918365498385\n",
      "Training loss after 35 epochs: 0.010336215800784324. Validation loss: 0.14931245859608883\n",
      "Training loss after 36 epochs: 0.009417107400535415. Validation loss: 0.16837759248705375\n",
      "Training loss after 37 epochs: 0.011147902838324439. Validation loss: 0.1549034046022118\n",
      "Training loss after 38 epochs: 0.006436120547284053. Validation loss: 0.16673525111077148\n",
      "Training loss after 39 epochs: 0.006387491163491488. Validation loss: 0.18209944603343806\n"
     ]
    }
   ],
   "source": [
    "my_RNN = RNN_with_train(input_size=300,output_size=2,hidden_dim=20,prob=0.3,n_layers=1)\n",
    "\n",
    "#Call train\n",
    "\n",
    "my_RNN.fit(docs_train,docs_val,torch.Tensor(y_train),torch.Tensor(y_val),len_train,len_val,epochs=40,print_every=1)\n"
   ]
  },
  {
   "cell_type": "markdown",
   "metadata": {},
   "source": [
    "> **Exercise:** Plot both validation and training loss. Recover the model parameters for the epoch that minimized the validation loss. To do so, note that at every epoch the model parameters are save in a certain file named  `RNN_sentiment_analysis_epoch_X.pth` (unless you changed the default value), where `X` is the epoch. The function to re-state the parameters of the network are  `state_dict = my_RNN.load_state_dict(torch.load('RNN_sentiment_analysis_epoch_X.pth'))\n",
    "`"
   ]
  },
  {
   "cell_type": "code",
   "execution_count": 115,
   "metadata": {},
   "outputs": [
    {
     "data": {
      "image/png": "[encoded data removed]",
      "text/plain": [
       "<Figure size 432x288 with 1 Axes>"
      ]
     },
     "metadata": {
      "image/png": {
       "height": 248,
       "width": 372
      },
      "needs_background": "light"
     },
     "output_type": "display_data"
    }
   ],
   "source": [
    "plt.plot(my_RNN.loss_during_training,label='Train_loss')\n",
    "plt.plot(my_RNN.valid_loss_during_training,label='Valid_loss')\n",
    "plt.legend()\n",
    "plt.grid()"
   ]
  },
  {
   "cell_type": "code",
   "execution_count": 116,
   "metadata": {},
   "outputs": [
    {
     "data": {
      "text/plain": [
       "<All keys matched successfully>"
      ]
     },
     "execution_count": 116,
     "metadata": {},
     "output_type": "execute_result"
    }
   ],
   "source": [
    "\n",
    "idx_min = np.argsort(my_RNN.valid_loss_during_training)\n",
    "\n",
    "my_RNN.load_state_dict(torch.load(my_RNN.saved_files+'_epoch_'+str(idx_min[0])+'.pth'))"
   ]
  },
  {
   "cell_type": "markdown",
   "metadata": {},
   "source": [
    "> **Exercise:** Using the method `predict_proba`, compute the accuracy and class probabilities for the data in the test set. Note that the method returns log-probabilities that you have to exponentiate."
   ]
  },
  {
   "cell_type": "code",
   "execution_count": 117,
   "metadata": {},
   "outputs": [
    {
     "name": "stdout",
     "output_type": "stream",
     "text": [
      "The test accuracy is 0.9536713286713286\n"
     ]
    }
   ],
   "source": [
    "logprobs,acc = my_RNN.predict_proba(docs_test,len_test,y_test)\n",
    "\n",
    "probs = np.exp(logprobs)  #YOUR CODE HERE\n",
    "\n",
    "print(f\"The test accuracy is {acc}\")"
   ]
  },
  {
   "cell_type": "markdown",
   "metadata": {},
   "source": [
    "The following code plots the ROC curve of the classifiers, and it computes the area under the curve:"
   ]
  },
  {
   "cell_type": "code",
   "execution_count": 118,
   "metadata": {},
   "outputs": [
    {
     "name": "stderr",
     "output_type": "stream",
     "text": [
      "/var/folders/mp/m1pxr4954g9dg7ypdlqgrgl800029_/T/ipykernel_66836/2390240904.py:8: MatplotlibDeprecationWarning: The 'b' parameter of grid() has been renamed 'visible' since Matplotlib 3.5; support for the old name will be dropped two minor releases later.\n",
      "  plt.grid(b=True, which='major', color='gray', alpha=0.6, linestyle='dotted', lw=1.5)\n"
     ]
    },
    {
     "data": {
      "image/png": "[encoded data removed]",
      "text/plain": [
       "<Figure size 432x288 with 1 Axes>"
      ]
     },
     "metadata": {
      "image/png": {
       "height": 277,
       "width": 385
      },
      "needs_background": "light"
     },
     "output_type": "display_data"
    },
    {
     "name": "stdout",
     "output_type": "stream",
     "text": [
      "AUC ROC for LSTM is 0.958145987478657\n"
     ]
    }
   ],
   "source": [
    "from sklearn import metrics\n",
    "\n",
    "fpr, recall, thresholds = metrics.roc_curve(y_test, probs[:,1], pos_label=1) \n",
    "\n",
    "fig,ax = plt.subplots()\n",
    "plt.plot(fpr,recall,lw=2.5,label='ROC curve LSTM')\n",
    "plt.legend(loc=7)\n",
    "plt.grid(b=True, which='major', color='gray', alpha=0.6, linestyle='dotted', lw=1.5)\n",
    "plt.xlabel('False Positive Rate')\n",
    "plt.ylabel('Recall (R)')\n",
    "plt.title('Curva ROC')\n",
    "plt.show()\n",
    "\n",
    "area_roc_LSTM = metrics.roc_auc_score(y_test, probs[:,1])\n",
    "\n",
    "print(f\"AUC ROC for LSTM is {area_roc_LSTM}\")"
   ]
  },
  {
   "cell_type": "markdown",
   "metadata": {},
   "source": [
    "If you do not implement the optimal part, just know that the proposed MLP solution AUC is typically less than 0.9"
   ]
  },
  {
   "cell_type": "markdown",
   "metadata": {},
   "source": [
    "### (OPTIONAL) \n",
    "\n",
    "Compare it with an MLP classifier that predicts the label using the **mean of the word embeddings** (without junk tokens). Consider a three layer MLP with 10 and 5 hidden units respectively.\n",
    "\n",
    "\n",
    "<img src='http://www.tsc.uc3m.es/~olmos/BBVA/MLP.png' width=800 />"
   ]
  },
  {
   "cell_type": "code",
   "execution_count": 119,
   "metadata": {},
   "outputs": [],
   "source": [
    "#YOUR CODE HERE"
   ]
  },
  {
   "cell_type": "code",
   "execution_count": 120,
   "metadata": {},
   "outputs": [],
   "source": [
    "class MLP(nn.Module):\n",
    "    def __init__(self,dimx,hidden1,hidden2,nlabels,prob): #Nlabels will be 10 in our case\n",
    "        super().__init__()\n",
    "        \n",
    "        self.output1 = nn.Linear(dimx,hidden1)\n",
    "        \n",
    "        self.output2 = nn.Linear(hidden1,hidden2)\n",
    "        \n",
    "        self.output3 = nn.Linear(hidden2,nlabels)\n",
    "    \n",
    "        self.activation = nn.Tanh()\n",
    "        \n",
    "        self.logsoftmax = nn.LogSoftmax(dim=1)    \n",
    "        \n",
    "        # Módulo dropout\n",
    "        self.dropout = nn.Dropout(p=prob)\n",
    "        \n",
    "    def forward(self, x):\n",
    "        # Pass the input tensor through each of our operations\n",
    "        x = self.output1(x)\n",
    "        x = self.activation(x)\n",
    "        x = self.dropout(x) \n",
    "        x = self.output2(x)\n",
    "        x = self.activation(x)\n",
    "        x = self.dropout(x) \n",
    "        x = self.output3(x)\n",
    "        x = self.logsoftmax(x) \n",
    "        return x"
   ]
  },
  {
   "cell_type": "code",
   "execution_count": 121,
   "metadata": {},
   "outputs": [],
   "source": [
    "class MLP_with_train(MLP):\n",
    "    \n",
    "    def __init__(self,input_shape,hidden1,hidden2,nlabels,prob=0.3,batch_size=50,lr=0.0005,saved_files='./saved_models/MLP_sentiment_analysis'):\n",
    "        \n",
    "        super().__init__(input_shape,hidden1,hidden2,nlabels,prob=0.3)  \n",
    "        \n",
    "        self.lr = lr # Learning Rate\n",
    "        \n",
    "        self.optim = optim.Adam(self.parameters(), self.lr) # Optimizer\n",
    "        \n",
    "        self.criterion = nn.NLLLoss()               \n",
    "        \n",
    "        self.loss_during_training = [] \n",
    "        \n",
    "        self.valid_loss_during_training = [] \n",
    "        \n",
    "        self.batch_size = batch_size\n",
    "        \n",
    "        self.saved_files = saved_files\n",
    "        \n",
    "        \n",
    "    def predict_proba(self,docs,lengths,Y=None):\n",
    "        \n",
    "        '''\n",
    "        We use this method to get the output of the network given a set of documents. If label is provided,\n",
    "        we get accuracy.\n",
    "        \n",
    "        - docs: documents, each encoded as a list of spacy tokens. They are length-normalized.\n",
    "        - lengths: real length of each document.\n",
    "        - Y: labels\n",
    "        '''\n",
    "        accuracy = 0.0\n",
    "        \n",
    "        with torch.no_grad(): \n",
    "        \n",
    "            x_input = torch.Tensor([np.mean([docs[d][w].vector for w in range(len_train[d])],0) for d in range(len(docs))])\n",
    "                \n",
    "            logprobs = self.forward(x_input).detach().numpy()\n",
    "            \n",
    "            if(len(Y)>0):\n",
    "            \n",
    "                accuracy = np.sum(np.argmax(logprobs,1)==Y)/np.shape(Y)[0]\n",
    "            \n",
    "        return logprobs,accuracy\n",
    "            \n",
    "        \n",
    "    def fit(self,docs_train,docs_val,Y,Yval,len_train,len_val,epochs=100,print_every=5):\n",
    "        \n",
    "        '''\n",
    "        Método de entrenamiento.\n",
    "        \n",
    "        - docs_train, docs_val: training/validation documents  (each is a list of spacy tokens). \n",
    "          Normalized in length!\n",
    "        - len_train/len_val: real lengths\n",
    "        '''\n",
    "        \n",
    "        self.print_every = print_every\n",
    "        \n",
    "        self.epochs=epochs\n",
    "        \n",
    "        # Optimization Loop\n",
    "        \n",
    "        self.num_train = len(docs_train) # Number of training points\n",
    "        \n",
    "        self.num_batchs = np.floor(self.num_train/self.batch_size) # Number of training batches\n",
    "        \n",
    "        self.num_val = len(docs_val) # Number of validation points\n",
    "        \n",
    "        self.num_batchs_val = np.floor(self.num_val/self.batch_size) # Numero of validation batches\n",
    "        \n",
    "        labels = torch.Tensor(Y).type(torch.LongTensor) # Training labels\n",
    "        \n",
    "        labelsval = torch.Tensor(Yval).type(torch.LongTensor) # Validation labels\n",
    "        \n",
    "        \n",
    "        for e in range(int(self.epochs)):\n",
    "            \n",
    "            self.train() # Activate dropout\n",
    "            \n",
    "            # Random data permutation\n",
    "            \n",
    "            idx = np.random.permutation(self.num_train)\n",
    "            \n",
    "            running_loss = 0.\n",
    "            \n",
    "            for i in range(int(self.num_batchs)):\n",
    "                        \n",
    "                self.optim.zero_grad()  \n",
    "\n",
    "                # Indices of the data entering the batch\n",
    "\n",
    "                idx_batch = idx[i*self.batch_size:(i+1)*self.batch_size]\n",
    "                \n",
    "                # Just in case there are empty documents, we ignore them\n",
    "                idx_batch = [d for d in idx_batch if len_train[d]>0]\n",
    "                \n",
    "                # We code each document using the mean of word embeddings\n",
    "                \n",
    "                #x_input = torch.Tensor([[w.vector for w in docs_train[d]] for d in idx_batch])\n",
    "                \n",
    "                x_input = torch.Tensor([np.mean([docs_train[d][w].vector for w in range(len_train[d])],0) for d in idx_batch])\n",
    "                \n",
    "                # We compute the classifier output for every data\n",
    "\n",
    "                out = self.forward(x_input)\n",
    "                \n",
    "                # Cost function and gradient descent step\n",
    "\n",
    "                loss = self.criterion(out,labels[idx_batch])\n",
    "                \n",
    "                running_loss += loss.item()\n",
    "\n",
    "                loss.backward()\n",
    "\n",
    "                # Gradient clipping\n",
    "                nn.utils.clip_grad_norm_(self.parameters(), 2.0)\n",
    "                \n",
    "                # SGD steps\n",
    "                \n",
    "                self.optim.step()\n",
    "                \n",
    "            self.loss_during_training.append(running_loss/self.num_batchs)\n",
    "            \n",
    "            # We save model parameters\n",
    "            \n",
    "            torch.save(self.state_dict(), self.saved_files+'_epoch_'+str(e)+'.pth')\n",
    "            \n",
    "            # We repeat for validation\n",
    "            \n",
    "            with torch.no_grad(): \n",
    "                \n",
    "                # set model to evaluation mode\n",
    "                self.eval()\n",
    "                \n",
    "                running_loss = 0.\n",
    "                \n",
    "                idx = np.random.permutation(self.num_val)\n",
    "\n",
    "                running_loss = 0.\n",
    "                \n",
    "                for i in range(int(self.num_batchs_val)):\n",
    "                    \n",
    "                    idx_batch = idx[i*self.batch_size:(i+1)*self.batch_size] \n",
    "                    \n",
    "                    idx_batch = [d for d in idx_batch if len_val[d]>0]\n",
    "                    \n",
    "                    x_input = torch.Tensor([np.mean([docs_val[d][w].vector for w in range(len_val[d])],0) for d in idx_batch])\n",
    "\n",
    "                    out = self.forward(x_input)\n",
    "\n",
    "                    loss = self.criterion(out,labelsval[idx_batch])\n",
    "\n",
    "                    running_loss += loss.item() \n",
    "                    \n",
    "                self.valid_loss_during_training.append(running_loss/self.num_batchs_val)    \n",
    "                    \n",
    "                \n",
    "\n",
    "            if(e % self.print_every == 0): \n",
    "\n",
    "                print(f\"Training loss after {e} epochs: {self.loss_during_training[-1]}. Validation loss: {self.valid_loss_during_training[-1]}\")"
   ]
  },
  {
   "cell_type": "code",
   "execution_count": 122,
   "metadata": {},
   "outputs": [],
   "source": [
    "my_MLP = MLP_with_train(input_shape=300,hidden1=10,hidden2=5,nlabels=2,prob=0.3)"
   ]
  },
  {
   "cell_type": "code",
   "execution_count": 123,
   "metadata": {},
   "outputs": [
    {
     "name": "stdout",
     "output_type": "stream",
     "text": [
      "Training loss after 0 epochs: 0.40524140449419416. Validation loss: 0.34663476132684284\n",
      "Training loss after 10 epochs: 0.2495973377603374. Validation loss: 0.23589303261703914\n",
      "Training loss after 20 epochs: 0.20959093105303098. Validation loss: 0.22337657544347975\n",
      "Training loss after 30 epochs: 0.1937248943603202. Validation loss: 0.2294929073088699\n",
      "Training loss after 40 epochs: 0.1801017909629704. Validation loss: 0.22174486228161389\n",
      "Training loss after 50 epochs: 0.17112846386759248. Validation loss: 0.22509346322880852\n",
      "Training loss after 60 epochs: 0.1659541678653188. Validation loss: 0.22493702214625147\n",
      "Training loss after 70 epochs: 0.1629609761581029. Validation loss: 0.22846830056773293\n",
      "Training loss after 80 epochs: 0.16757587547579858. Validation loss: 0.2292431015521288\n",
      "Training loss after 90 epochs: 0.16196544968510326. Validation loss: 0.23705827527576023\n"
     ]
    }
   ],
   "source": [
    "#Call train\n",
    "\n",
    "my_MLP.fit(docs_train,docs_val,torch.Tensor(y_train),torch.Tensor(y_val),len_train,len_val,epochs=100,print_every=10)\n"
   ]
  },
  {
   "cell_type": "code",
   "execution_count": 124,
   "metadata": {},
   "outputs": [
    {
     "data": {
      "text/plain": [
       "<All keys matched successfully>"
      ]
     },
     "execution_count": 124,
     "metadata": {},
     "output_type": "execute_result"
    }
   ],
   "source": [
    "idx_min = np.argsort(my_MLP.valid_loss_during_training)\n",
    "\n",
    "my_MLP.load_state_dict(torch.load(my_MLP.saved_files+'_epoch_'+str(idx_min[0])+'.pth'))"
   ]
  },
  {
   "cell_type": "code",
   "execution_count": 125,
   "metadata": {},
   "outputs": [
    {
     "data": {
      "image/png": "[encoded data removed]",
      "text/plain": [
       "<Figure size 432x288 with 1 Axes>"
      ]
     },
     "metadata": {
      "image/png": {
       "height": 248,
       "width": 378
      },
      "needs_background": "light"
     },
     "output_type": "display_data"
    }
   ],
   "source": [
    "plt.plot(my_MLP.loss_during_training,label='Train_loss')\n",
    "plt.plot(my_MLP.valid_loss_during_training,label='Valid_loss')\n",
    "plt.legend()\n",
    "plt.grid()"
   ]
  },
  {
   "cell_type": "code",
   "execution_count": 126,
   "metadata": {},
   "outputs": [
    {
     "name": "stdout",
     "output_type": "stream",
     "text": [
      "The test accuracy is 0.9020979020979021\n"
     ]
    }
   ],
   "source": [
    "logprobs,acc = my_MLP.predict_proba(docs_test,len_test,y_test)\n",
    "\n",
    "probsMLP = np.exp(logprobs)  #YOUR CODE HERE\n",
    "\n",
    "print(f\"The test accuracy is {acc}\")"
   ]
  },
  {
   "cell_type": "code",
   "execution_count": 127,
   "metadata": {},
   "outputs": [
    {
     "name": "stderr",
     "output_type": "stream",
     "text": [
      "/var/folders/mp/m1pxr4954g9dg7ypdlqgrgl800029_/T/ipykernel_66836/1970345231.py:9: MatplotlibDeprecationWarning: The 'b' parameter of grid() has been renamed 'visible' since Matplotlib 3.5; support for the old name will be dropped two minor releases later.\n",
      "  plt.grid(b=True, which='major', color='gray', alpha=0.6, linestyle='dotted', lw=1.5)\n"
     ]
    },
    {
     "data": {
      "image/png": "[encoded data removed]",
      "text/plain": [
       "<Figure size 432x288 with 1 Axes>"
      ]
     },
     "metadata": {
      "image/png": {
       "height": 277,
       "width": 385
      },
      "needs_background": "light"
     },
     "output_type": "display_data"
    },
    {
     "name": "stdout",
     "output_type": "stream",
     "text": [
      "AUC ROC for LSTM is 0.958145987478657\n",
      "AUC ROC for MLP is 0.8737407512805919\n"
     ]
    }
   ],
   "source": [
    "from sklearn import metrics\n",
    "\n",
    "fpr2, recall2, thresholds = metrics.roc_curve(y_test, probsMLP[:,1], pos_label=1) \n",
    "\n",
    "fig,ax = plt.subplots()\n",
    "plt.plot(fpr,recall,lw=2.5,label='ROC curve LSTM')\n",
    "plt.plot(fpr2,recall2,lw=2.5,label='ROC curve MLP')\n",
    "plt.legend(loc=7)\n",
    "plt.grid(b=True, which='major', color='gray', alpha=0.6, linestyle='dotted', lw=1.5)\n",
    "plt.xlabel('False Positive Rate')\n",
    "plt.ylabel('Recall (R)')\n",
    "plt.title('Curva ROC')\n",
    "plt.show()\n",
    "\n",
    "area_roc_MLP = metrics.roc_auc_score(y_test, probsMLP[:,1])\n",
    "\n",
    "print(f\"AUC ROC for LSTM is {area_roc_LSTM}\")\n",
    "print(f\"AUC ROC for MLP is {area_roc_MLP}\")"
   ]
  },
  {
   "cell_type": "markdown",
   "metadata": {},
   "source": [
    "We gain quite a lot, but note we're not doing that bad with the mean of word embeddings!"
   ]
  },
  {
   "cell_type": "code",
   "execution_count": null,
   "metadata": {},
   "outputs": [],
   "source": []
  }
 ],
 "metadata": {
  "kernelspec": {
   "display_name": "Python 3",
   "language": "python",
   "name": "python3"
  },
  "language_info": {
   "codemirror_mode": {
    "name": "ipython",
    "version": 3
   },
   "file_extension": ".py",
   "mimetype": "text/x-python",
   "name": "python",
   "nbconvert_exporter": "python",
   "pygments_lexer": "ipython3",
   "version": "3.6.10"
  }
 },
 "nbformat": 4,
 "nbformat_minor": 5
}
