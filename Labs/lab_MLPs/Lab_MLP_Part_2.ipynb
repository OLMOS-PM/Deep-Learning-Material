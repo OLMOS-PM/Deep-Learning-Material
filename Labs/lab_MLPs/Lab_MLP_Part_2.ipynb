{
 "cells": [
  {
   "cell_type": "markdown",
   "metadata": {
    "id": "H38zQZ4Z5aXe"
   },
   "source": [
    "# Lab: Regularizing MLPs\n",
    "\n",
    "\n",
    "------------------------------------------------------\n",
    "*Pablo M. Olmos pamartin@ing.uc3m.es*\n",
    "\n",
    "------------------------------------------------------\n",
    "\n",
    "\n",
    "In this lab, you'll be using the [Fashion-MNIST dataset](https://github.com/zalandoresearch/fashion-mnist), a drop-in replacement for the MNIST dataset. MNIST is actually quite trivial with neural networks where you can easily achieve better than 97% accuracy. Fashion-MNIST is a set of 28x28 greyscale images of clothes. It's more complex than MNIST, so it's a better representation of the actual performance of your network, and a better representation of datasets you'll use in the real world. You can see a sample below."
   ]
  },
  {
   "cell_type": "code",
   "execution_count": 1,
   "metadata": {
    "colab": {
     "base_uri": "https://localhost:8080/",
     "height": 221
    },
    "id": "7HO69BCj5aXf",
    "outputId": "5c540834-9284-4c4f-c2f9-aa93dcd55e8a"
   },
   "outputs": [
    {
     "data": {
      "text/html": [
       "<img src=\"https://miro.medium.com/max/3200/1*QQVbuP2SEasB0XAmvjW0AA.jpeg\" width=\"400\" height=\"200\"/>"
      ],
      "text/plain": [
       "<IPython.core.display.Image object>"
      ]
     },
     "execution_count": 1,
     "metadata": {},
     "output_type": "execute_result"
    }
   ],
   "source": [
    "from IPython.display import Image\n",
    "from IPython.core.display import HTML \n",
    "\n",
    "Image(url= \"https://miro.medium.com/max/3200/1*QQVbuP2SEasB0XAmvjW0AA.jpeg\", width=400, height=200)"
   ]
  },
  {
   "cell_type": "markdown",
   "metadata": {
    "id": "DqRZsuzc5aXg"
   },
   "source": [
    "Our goal is to build a neural network that can take one of these images and predict the digit in the image. Unlike the MNIST case, for this problem you will notice that the model **easily overfits**, so addressing this issue is an important problem here. To do so, we will experiment with early stopping and dropout.\n",
    "\n",
    "Note: a big part of the following material is a personal wrap-up of [Facebook's Deep Learning Course in Udacity](https://www.udacity.com/course/deep-learning-pytorch--ud188). So all credit goes for them!!"
   ]
  },
  {
   "cell_type": "code",
   "execution_count": 2,
   "metadata": {
    "id": "PMZ1ivmK5aXg"
   },
   "outputs": [],
   "source": [
    "%matplotlib inline\n",
    "%config InlineBackend.figure_format = 'retina'  #To get figures with high quality!\n",
    "\n",
    "import numpy as np\n",
    "import torch\n",
    "from torch import nn\n",
    "from torch import optim\n",
    "import matplotlib.pyplot as plt"
   ]
  },
  {
   "cell_type": "markdown",
   "metadata": {
    "id": "taFaGDde5aXg"
   },
   "source": [
    "## Part I. Download FMNIST with `torchvision`\n",
    "\n",
    "The code below will download the MNIST dataset, then create training and test datasets for us. It is mostly the same code we used to download MNIST in the previous part of the Lab."
   ]
  },
  {
   "cell_type": "code",
   "execution_count": 3,
   "metadata": {
    "colab": {
     "base_uri": "https://localhost:8080/",
     "height": 369,
     "referenced_widgets": [
      "dde26e6292d74f4e9d8bc1d26b87f139",
      "c41ae360c23f46b4920f0c0002720c9e",
      "648e1e1ce6a842fd84236f9454266fd8",
      "9cb2ef5d3e194f7e9bd036182b310f18",
      "74961f0eb1ac4c2887d0a4bf4448dde0",
      "b8812dfcbd9843ddbd5371e956b680dc",
      "1083d92290b84a179be777f6bbf189bc",
      "70c354058e96481ea7f6bdda5f5d729a",
      "bcea31dda7574b32bbc1d6c28ed29c32",
      "0e7f8ca18b8b49a6b1aa9a2821947669",
      "83b34c8548f94f6db47e88bc8ef511b1",
      "1692eb8e070541b99b7e2c768784842e",
      "36eab5792ad64c439ff146b9e5702878",
      "4a8a1496c27444729acccc3b5d669742",
      "cc38ecde182a481f9dbb95f1571e8614",
      "c22fb417522f49fda77032751e1642c1",
      "423cea9282f64ff1af98162d28614de2",
      "2e106dae2b484260b54a7558d2a04b17",
      "42c8538ed676418f8d609590377aca23",
      "754c9b5cdc024c11afba61ba42f03e1a",
      "d2224c1aeaa64ec1930951b25ba76dde",
      "621c89f13ed3445c84e61ee3bdf65067",
      "3310266025704ccdb6608f466b76c5c0",
      "41031b01f4ee41259fc1318e485a2ec5",
      "a0e75e118eb84d4bb56abd1ef8ed77b6",
      "91f8cd1ed22f43c5801360e36cb33279",
      "9607d7544a8c4b6f92b09653b29294b6",
      "44fe19958dcc4f88980bf8af78b7cfbc",
      "c8dcddf3881041fd8445ad9cf556f50c",
      "d37f307a2ab949fd80d530af53db353f",
      "d634b3ad00b94edc8f8e355c3b5ddcf0",
      "b92eec98d7544d2f9276431d0f114d48"
     ]
    },
    "id": "ChiGVe_e5aXh",
    "outputId": "a28809a5-7453-4ef7-f14a-2d9de0885193"
   },
   "outputs": [
    {
     "name": "stdout",
     "output_type": "stream",
     "text": [
      "Downloading http://fashion-mnist.s3-website.eu-central-1.amazonaws.com/train-images-idx3-ubyte.gz\n",
      "Downloading http://fashion-mnist.s3-website.eu-central-1.amazonaws.com/train-images-idx3-ubyte.gz to /Users/lancho/.pytorch/F_MNIST_data/FashionMNIST/raw/train-images-idx3-ubyte.gz\n"
     ]
    },
    {
     "name": "stderr",
     "output_type": "stream",
     "text": [
      "100%|██████████| 26421880/26421880 [00:03<00:00, 8321495.91it/s] \n"
     ]
    },
    {
     "name": "stdout",
     "output_type": "stream",
     "text": [
      "Extracting /Users/lancho/.pytorch/F_MNIST_data/FashionMNIST/raw/train-images-idx3-ubyte.gz to /Users/lancho/.pytorch/F_MNIST_data/FashionMNIST/raw\n",
      "\n",
      "Downloading http://fashion-mnist.s3-website.eu-central-1.amazonaws.com/train-labels-idx1-ubyte.gz\n",
      "Downloading http://fashion-mnist.s3-website.eu-central-1.amazonaws.com/train-labels-idx1-ubyte.gz to /Users/lancho/.pytorch/F_MNIST_data/FashionMNIST/raw/train-labels-idx1-ubyte.gz\n"
     ]
    },
    {
     "name": "stderr",
     "output_type": "stream",
     "text": [
      "100%|██████████| 29515/29515 [00:00<00:00, 931278.74it/s]\n"
     ]
    },
    {
     "name": "stdout",
     "output_type": "stream",
     "text": [
      "Extracting /Users/lancho/.pytorch/F_MNIST_data/FashionMNIST/raw/train-labels-idx1-ubyte.gz to /Users/lancho/.pytorch/F_MNIST_data/FashionMNIST/raw\n",
      "\n",
      "Downloading http://fashion-mnist.s3-website.eu-central-1.amazonaws.com/t10k-images-idx3-ubyte.gz\n",
      "Downloading http://fashion-mnist.s3-website.eu-central-1.amazonaws.com/t10k-images-idx3-ubyte.gz to /Users/lancho/.pytorch/F_MNIST_data/FashionMNIST/raw/t10k-images-idx3-ubyte.gz\n"
     ]
    },
    {
     "name": "stderr",
     "output_type": "stream",
     "text": [
      "100%|██████████| 4422102/4422102 [00:00<00:00, 7406373.37it/s]\n"
     ]
    },
    {
     "name": "stdout",
     "output_type": "stream",
     "text": [
      "Extracting /Users/lancho/.pytorch/F_MNIST_data/FashionMNIST/raw/t10k-images-idx3-ubyte.gz to /Users/lancho/.pytorch/F_MNIST_data/FashionMNIST/raw\n",
      "\n",
      "Downloading http://fashion-mnist.s3-website.eu-central-1.amazonaws.com/t10k-labels-idx1-ubyte.gz\n",
      "Downloading http://fashion-mnist.s3-website.eu-central-1.amazonaws.com/t10k-labels-idx1-ubyte.gz to /Users/lancho/.pytorch/F_MNIST_data/FashionMNIST/raw/t10k-labels-idx1-ubyte.gz\n"
     ]
    },
    {
     "name": "stderr",
     "output_type": "stream",
     "text": [
      "100%|██████████| 5148/5148 [00:00<00:00, 13912549.61it/s]"
     ]
    },
    {
     "name": "stdout",
     "output_type": "stream",
     "text": [
      "Extracting /Users/lancho/.pytorch/F_MNIST_data/FashionMNIST/raw/t10k-labels-idx1-ubyte.gz to /Users/lancho/.pytorch/F_MNIST_data/FashionMNIST/raw\n",
      "\n"
     ]
    },
    {
     "name": "stderr",
     "output_type": "stream",
     "text": [
      "\n"
     ]
    }
   ],
   "source": [
    "import torch\n",
    "from torchvision import datasets, transforms\n",
    "\n",
    "# Define a transform to normalize the data\n",
    "transform = transforms.Compose([transforms.ToTensor(),\n",
    "                                transforms.Normalize((0.5,), (0.5,))])\n",
    "# Download and load the training data\n",
    "trainset = datasets.FashionMNIST('~/.pytorch/F_MNIST_data/', download=True, train=True, transform=transform)\n",
    "trainloader = torch.utils.data.DataLoader(trainset, batch_size=64, shuffle=True)\n",
    "\n",
    "# Download and load the test data\n",
    "testset = datasets.FashionMNIST('~/.pytorch/F_MNIST_data/', download=True, train=False, transform=transform)\n",
    "testloader = torch.utils.data.DataLoader(testset, batch_size=64, shuffle=True)"
   ]
  },
  {
   "cell_type": "markdown",
   "metadata": {
    "id": "1FGMTQw05aXh"
   },
   "source": [
    "Lets take a look to the mini-batch size and plot a sample."
   ]
  },
  {
   "cell_type": "code",
   "execution_count": 5,
   "metadata": {
    "colab": {
     "base_uri": "https://localhost:8080/"
    },
    "id": "jddxiAla5aXh",
    "outputId": "9a0ef362-744c-43ca-d2a6-acb13c7b9ba5"
   },
   "outputs": [
    {
     "name": "stdout",
     "output_type": "stream",
     "text": [
      "<class 'torch.Tensor'>\n",
      "torch.Size([64, 1, 28, 28])\n",
      "torch.Size([64])\n"
     ]
    }
   ],
   "source": [
    "dataiter = iter(trainloader)   #To iterate through the dataset\n",
    "\n",
    "images, labels = next(dataiter)\n",
    "print(type(images))\n",
    "print(images.shape)\n",
    "print(labels.shape)\n"
   ]
  },
  {
   "cell_type": "markdown",
   "metadata": {
    "id": "N4gasePw5aXi"
   },
   "source": [
    "This is what one of the images looks like. "
   ]
  },
  {
   "cell_type": "code",
   "execution_count": 6,
   "metadata": {
    "colab": {
     "base_uri": "https://localhost:8080/",
     "height": 299
    },
    "id": "rLZuatJa5aXi",
    "outputId": "4c3884fa-93be-4971-cb03-177640eb05a4"
   },
   "outputs": [
    {
     "data": {
      "text/plain": [
       "<matplotlib.image.AxesImage at 0x17f6e83d0>"
      ]
     },
     "execution_count": 6,
     "metadata": {},
     "output_type": "execute_result"
    },
    {
     "data": {
      "image/png": "[encoded data removed]",
      "text/plain": [
       "<Figure size 640x480 with 1 Axes>"
      ]
     },
     "metadata": {
      "image/png": {
       "height": 413,
       "width": 416
      }
     },
     "output_type": "display_data"
    }
   ],
   "source": [
    "plt.imshow(images[1].numpy().reshape([28,28]), cmap='Greys_r')"
   ]
  },
  {
   "cell_type": "markdown",
   "metadata": {
    "id": "XeoPyXmi5aXi"
   },
   "source": [
    "## Part II. Visualize overfiting\n",
    "\n",
    "> **Exercise**: Train a Neural Network with four layers, hidden dimmensions 256, 128 and 64 neurons. Use ReLU activation functions, and a log-Softmax output layer. To do so, complete the following steps: \n",
    "> - Create a class defining the NN model \n",
    "> - Extend the class to incorporate a training method. **Call it trainloop instead of train**. The reason will be clear later.\n",
    "> - Train the model for 30 epochs and evaluate train/test performance"
   ]
  },
  {
   "cell_type": "code",
   "execution_count": 7,
   "metadata": {
    "id": "kz11Yrir5aXi"
   },
   "outputs": [],
   "source": [
    "class MLP(nn.Module):\n",
    "    def __init__(self,dimx,hidden1,hidden2,hidden3,nlabels=10): #Nlabels will be 10 in our case\n",
    "        super().__init__()\n",
    "        \n",
    "        self.output1 = nn.Linear(dimx,hidden1)\n",
    "        \n",
    "        self.output2 = nn.Linear(hidden1,hidden2)\n",
    "        \n",
    "        self.output3 = nn.Linear(hidden2,hidden3)\n",
    "        \n",
    "        self.output4 = nn.Linear(hidden3,nlabels)\n",
    "    \n",
    "        self.relu = nn.ReLU()\n",
    "        \n",
    "        self.logsoftmax = nn.LogSoftmax(dim=1)                                                             \n",
    "        \n",
    "    def forward(self, x):\n",
    "        # Pass the input tensor through each of our operations\n",
    "        x = self.output1(x)\n",
    "        x = self.relu(x)\n",
    "        x = self.output2(x)\n",
    "        x = self.relu(x)\n",
    "        x = self.output3(x)\n",
    "        x = self.relu(x)\n",
    "        x = self.output4(x)\n",
    "        x = self.logsoftmax(x) #YOUR CODE HERE\n",
    "        return x"
   ]
  },
  {
   "cell_type": "code",
   "execution_count": 8,
   "metadata": {
    "id": "ESYFfCrA5aXj"
   },
   "outputs": [],
   "source": [
    "class MLP_extended(MLP):\n",
    "    \n",
    "    #Your code here\n",
    "    \n",
    "    def __init__(self,dimx,hidden1,hidden2,hidden3,nlabels,epochs=100,lr=0.001):\n",
    "        \n",
    "        super().__init__(dimx,hidden1,hidden2,hidden3,nlabels)  #To initialize `MLP`!\n",
    "        \n",
    "        self.lr = lr #Learning Rate\n",
    "        \n",
    "        self.optim = optim.Adam(self.parameters(), self.lr)\n",
    "        \n",
    "        self.epochs = epochs\n",
    "        \n",
    "        self.criterion = nn.NLLLoss()             \n",
    "        \n",
    "        # A list to store the loss evolution along training\n",
    "        \n",
    "        self.loss_during_training = [] \n",
    "        \n",
    "    def trainloop(self,trainloader):\n",
    "        \n",
    "        # Optimization Loop\n",
    "        \n",
    "        for e in range(int(self.epochs)):\n",
    "            \n",
    "            # Random data permutation at each epoch\n",
    "            \n",
    "            running_loss = 0.\n",
    "            \n",
    "            for images, labels in trainloader:              # NEW w.r.t Lab 1\n",
    "        \n",
    "                self.optim.zero_grad()  #TO RESET GRADIENTS!\n",
    "            \n",
    "                out = self.forward(images.view(images.shape[0], -1))\n",
    "\n",
    "                #Your code here\n",
    "                loss = self.criterion(out,labels)\n",
    "\n",
    "                running_loss += loss.item()\n",
    "\n",
    "                #Your code here\n",
    "                loss.backward()\n",
    "                \n",
    "                #Your code here\n",
    "                self.optim.step()\n",
    "                \n",
    "                \n",
    "            self.loss_during_training.append(running_loss/len(trainloader))\n",
    "\n",
    "            if(e % 1 == 0): # Every 10 epochs\n",
    "\n",
    "                print(\"Training loss after %d epochs: %f\" \n",
    "                      %(e,self.loss_during_training[-1]))\n",
    "\n",
    "    def eval_performance(self,dataloader):\n",
    "        \n",
    "        loss = 0\n",
    "        accuracy = 0\n",
    "\n",
    "        # Turn off gradients for validation, saves memory and computations\n",
    "        with torch.no_grad():\n",
    "\n",
    "            for images,labels in dataloader:\n",
    "\n",
    "                probs = self.forward(images.view(images.shape[0], -1))\n",
    "\n",
    "                top_p, top_class = probs.topk(1, dim=1)\n",
    "                equals = (top_class == labels.view(images.shape[0], 1))\n",
    "                accuracy += torch.mean(equals.type(torch.FloatTensor))\n",
    "    \n",
    "            return accuracy/len(dataloader)"
   ]
  },
  {
   "cell_type": "code",
   "execution_count": 9,
   "metadata": {
    "colab": {
     "base_uri": "https://localhost:8080/"
    },
    "id": "LuSSlaj_5aXj",
    "outputId": "833739e2-ec97-47ae-ae82-90b1921b67e6"
   },
   "outputs": [
    {
     "name": "stdout",
     "output_type": "stream",
     "text": [
      "Training loss after 0 epochs: 0.538624\n",
      "Training loss after 1 epochs: 0.381115\n",
      "Training loss after 2 epochs: 0.342764\n",
      "Training loss after 3 epochs: 0.314978\n",
      "Training loss after 4 epochs: 0.294913\n",
      "Training loss after 5 epochs: 0.277313\n",
      "Training loss after 6 epochs: 0.262638\n",
      "Training loss after 7 epochs: 0.252489\n",
      "Training loss after 8 epochs: 0.241045\n",
      "Training loss after 9 epochs: 0.230199\n",
      "Training loss after 10 epochs: 0.217282\n",
      "Training loss after 11 epochs: 0.212307\n",
      "Training loss after 12 epochs: 0.201083\n",
      "Training loss after 13 epochs: 0.193631\n",
      "Training loss after 14 epochs: 0.184839\n",
      "Training loss after 15 epochs: 0.178232\n",
      "Training loss after 16 epochs: 0.169926\n",
      "Training loss after 17 epochs: 0.166309\n",
      "Training loss after 18 epochs: 0.157324\n",
      "Training loss after 19 epochs: 0.153105\n",
      "Training loss after 20 epochs: 0.147669\n",
      "Training loss after 21 epochs: 0.141533\n",
      "Training loss after 22 epochs: 0.139390\n",
      "Training loss after 23 epochs: 0.131857\n",
      "Training loss after 24 epochs: 0.126929\n",
      "Training loss after 25 epochs: 0.125245\n",
      "Training loss after 26 epochs: 0.121781\n",
      "Training loss after 27 epochs: 0.113977\n",
      "Training loss after 28 epochs: 0.112619\n",
      "Training loss after 29 epochs: 0.102654\n",
      "Train Accuracy 0.961537\n",
      "Test Accuracy 0.888635\n"
     ]
    }
   ],
   "source": [
    "my_MLP = MLP_extended(dimx=784,hidden1=256,hidden2=128,hidden3=64,nlabels=20,epochs=30,lr=1e-3)\n",
    "\n",
    "my_MLP.trainloop(trainloader)\n",
    "\n",
    "train_performance = my_MLP.eval_performance(trainloader)\n",
    "\n",
    "test_performance = my_MLP.eval_performance(testloader)\n",
    "\n",
    "print(\"Train Accuracy %f\" %(train_performance))\n",
    "\n",
    "print(\"Test Accuracy %f\" %(test_performance))"
   ]
  },
  {
   "cell_type": "markdown",
   "metadata": {
    "id": "WzlqVZ415aXk"
   },
   "source": [
    "In light of the train/test performance, certainly the model is performing significantly better in the train set than in the test set. This is a sign of overfitting. For an early detection of overfitting, we will make use of a **validation set** that we will use to visualize the evolution of the loss function during training. \n",
    "\n",
    "With the following code we split the train set into one training set (45k images) and a validation set (15k images). We do a naive splitting assuming that the data is randomized. **Keep in mind that in general you can do something smarter than this like K-Fold cross validation**, but here we keep it simple.\n",
    "\n"
   ]
  },
  {
   "cell_type": "code",
   "execution_count": 10,
   "metadata": {
    "id": "MoDwuzGh5aXk"
   },
   "outputs": [],
   "source": [
    "import copy\n",
    "\n",
    "\n",
    "validloader = copy.deepcopy(trainloader)  # Creates a copy of the object \n",
    "\n",
    "#We take the first 45k images for training\n",
    "trainloader.dataset.data = trainloader.dataset.data[:45000,:,:]\n",
    "trainloader.dataset.targets = trainloader.dataset.targets[:45000]\n",
    "\n",
    "#And the rest for validation\n",
    "validloader.dataset.data = validloader.dataset.data[45000:,:,:]\n",
    "validloader.dataset.targets = validloader.dataset.targets[45000:]\n",
    "\n"
   ]
  },
  {
   "cell_type": "code",
   "execution_count": 11,
   "metadata": {
    "colab": {
     "base_uri": "https://localhost:8080/",
     "height": 35
    },
    "id": "QJkU1qY55aXl",
    "outputId": "09076083-1dbc-4200-b9eb-b597e7da48fc"
   },
   "outputs": [
    {
     "data": {
      "text/plain": [
       "'2.0.1'"
      ]
     },
     "execution_count": 11,
     "metadata": {},
     "output_type": "execute_result"
    }
   ],
   "source": [
    "torch.__version__"
   ]
  },
  {
   "cell_type": "markdown",
   "metadata": {
    "id": "WVISIsKY5aXl"
   },
   "source": [
    "> **Exercise**: Modify your code class above so that, during training, everytime an epoch is finished you compute the loss function over the validation set. You must store these values into a list name as `valid_loss_during_training`. When performing this step, do not forget to turn off gradients by using `with torch.no_grad()`.\n",
    ">\n",
    ">Then, repeat the training (30 epochs) and plot the train/validation loss along epochs.  Compute the final train/validation/test performance."
   ]
  },
  {
   "cell_type": "code",
   "execution_count": 12,
   "metadata": {
    "id": "XiniIocy5aXl"
   },
   "outputs": [],
   "source": [
    "class MLP_extended2(MLP):\n",
    "    \n",
    "    #Your code here\n",
    "    \n",
    "    def __init__(self,dimx,hidden1,hidden2,hidden3,nlabels,epochs=100,lr=0.001):\n",
    "        \n",
    "        super().__init__(dimx,hidden1,hidden2,hidden3,nlabels)  #To initialize `MLP`!\n",
    "        \n",
    "        self.lr = lr #Learning Rate\n",
    "        \n",
    "        self.optim = optim.Adam(self.parameters(), self.lr)\n",
    "        \n",
    "        self.epochs = epochs\n",
    "        \n",
    "        self.criterion = nn.NLLLoss()             \n",
    "        \n",
    "        # A list to store the loss evolution along training\n",
    "        \n",
    "        self.loss_during_training = [] \n",
    "        \n",
    "        self.valid_loss_during_training = [] \n",
    "        \n",
    "    def trainloop(self,trainloader,validloader):\n",
    "        \n",
    "        # Optimization Loop\n",
    "        \n",
    "        for e in range(int(self.epochs)):\n",
    "            \n",
    "            # Random data permutation at each epoch\n",
    "            \n",
    "            running_loss = 0.\n",
    "            \n",
    "            for images, labels in trainloader:              \n",
    "        \n",
    "                self.optim.zero_grad()  #TO RESET GRADIENTS!\n",
    "            \n",
    "                out = self.forward(images.view(images.shape[0], -1))\n",
    "\n",
    "                #Your code here\n",
    "                loss = self.criterion(out,labels)\n",
    "\n",
    "                running_loss += loss.item()\n",
    "\n",
    "                #Your code here\n",
    "                loss.backward()\n",
    "                \n",
    "                #Your code here\n",
    "                self.optim.step()\n",
    "                \n",
    "                \n",
    "            self.loss_during_training.append(running_loss/len(trainloader))\n",
    "            \n",
    "            # Validation Loss\n",
    "            \n",
    "            # Turn off gradients for validation, saves memory and computations\n",
    "            with torch.no_grad():            \n",
    "                \n",
    "                running_loss = 0.\n",
    "                \n",
    "                for images,labels in validloader:\n",
    "                    \n",
    "                    out = self.forward(images.view(images.shape[0], -1))\n",
    "\n",
    "                    #Your code here\n",
    "                    loss = self.criterion(out,labels)\n",
    "\n",
    "                    running_loss += loss.item()   \n",
    "                    \n",
    "                self.valid_loss_during_training.append(running_loss/len(validloader))    \n",
    "                    \n",
    "\n",
    "            if(e % 1 == 0): # Every 1 epoch(s)\n",
    "\n",
    "                print(\"Epoch %d. Training loss: %f, Validation loss: %f\" \n",
    "                      %(e,self.loss_during_training[-1],self.valid_loss_during_training[-1]))\n",
    "\n",
    "    def eval_performance(self,dataloader):\n",
    "        \n",
    "        loss = 0\n",
    "        accuracy = 0\n",
    "\n",
    "        # Turn off gradients for validation, saves memory and computations\n",
    "        with torch.no_grad():\n",
    "\n",
    "            for images,labels in dataloader:\n",
    "\n",
    "                probs = self.forward(images.view(images.shape[0], -1))\n",
    "\n",
    "                top_p, top_class = probs.topk(1, dim=1)\n",
    "                equals = (top_class == labels.view(images.shape[0], 1))\n",
    "                accuracy += torch.mean(equals.type(torch.FloatTensor))\n",
    "    \n",
    "            return accuracy/len(dataloader)"
   ]
  },
  {
   "cell_type": "code",
   "execution_count": 13,
   "metadata": {
    "colab": {
     "base_uri": "https://localhost:8080/"
    },
    "id": "c2XOkgZP5aXm",
    "outputId": "be9e97ec-6aca-4f6b-ff6f-8372f05e5fdc"
   },
   "outputs": [
    {
     "name": "stdout",
     "output_type": "stream",
     "text": [
      "Epoch 0. Training loss: 0.551760, Validation loss: 0.439459\n",
      "Epoch 1. Training loss: 0.390412, Validation loss: 0.394087\n",
      "Epoch 2. Training loss: 0.348370, Validation loss: 0.371387\n",
      "Epoch 3. Training loss: 0.324702, Validation loss: 0.351983\n",
      "Epoch 4. Training loss: 0.305365, Validation loss: 0.374386\n",
      "Epoch 5. Training loss: 0.286749, Validation loss: 0.359514\n",
      "Epoch 6. Training loss: 0.273489, Validation loss: 0.352049\n",
      "Epoch 7. Training loss: 0.259296, Validation loss: 0.348730\n",
      "Epoch 8. Training loss: 0.245709, Validation loss: 0.308346\n",
      "Epoch 9. Training loss: 0.235931, Validation loss: 0.341132\n",
      "Epoch 10. Training loss: 0.224203, Validation loss: 0.333982\n",
      "Epoch 11. Training loss: 0.215868, Validation loss: 0.336956\n",
      "Epoch 12. Training loss: 0.207116, Validation loss: 0.347854\n",
      "Epoch 13. Training loss: 0.196734, Validation loss: 0.341466\n",
      "Epoch 14. Training loss: 0.186857, Validation loss: 0.375082\n",
      "Epoch 15. Training loss: 0.180762, Validation loss: 0.350925\n",
      "Epoch 16. Training loss: 0.171047, Validation loss: 0.357049\n",
      "Epoch 17. Training loss: 0.165476, Validation loss: 0.358119\n",
      "Epoch 18. Training loss: 0.160442, Validation loss: 0.347437\n",
      "Epoch 19. Training loss: 0.152023, Validation loss: 0.401773\n",
      "Epoch 20. Training loss: 0.147171, Validation loss: 0.404171\n",
      "Epoch 21. Training loss: 0.142833, Validation loss: 0.374389\n",
      "Epoch 22. Training loss: 0.133338, Validation loss: 0.397152\n",
      "Epoch 23. Training loss: 0.126729, Validation loss: 0.396769\n",
      "Epoch 24. Training loss: 0.121254, Validation loss: 0.428359\n",
      "Epoch 25. Training loss: 0.120795, Validation loss: 0.428611\n",
      "Epoch 26. Training loss: 0.115028, Validation loss: 0.435071\n",
      "Epoch 27. Training loss: 0.112071, Validation loss: 0.448084\n",
      "Epoch 28. Training loss: 0.102034, Validation loss: 0.449862\n",
      "Epoch 29. Training loss: 0.100948, Validation loss: 0.448995\n"
     ]
    }
   ],
   "source": [
    "my_MLP = MLP_extended2(dimx=784,hidden1=256,hidden2=128,hidden3=64,nlabels=10,epochs=30,lr=1e-3)\n",
    "\n",
    "my_MLP.trainloop(trainloader,validloader)"
   ]
  },
  {
   "cell_type": "code",
   "execution_count": 14,
   "metadata": {
    "colab": {
     "base_uri": "https://localhost:8080/",
     "height": 282
    },
    "id": "bvmTzj865aXm",
    "outputId": "8b920413-5489-417c-f04b-60777de129b9"
   },
   "outputs": [
    {
     "data": {
      "text/plain": [
       "<matplotlib.legend.Legend at 0x17f587550>"
      ]
     },
     "execution_count": 14,
     "metadata": {},
     "output_type": "execute_result"
    },
    {
     "data": {
      "image/png": "[encoded data removed]",
      "text/plain": [
       "<Figure size 640x480 with 1 Axes>"
      ]
     },
     "metadata": {
      "image/png": {
       "height": 413,
       "width": 549
      }
     },
     "output_type": "display_data"
    }
   ],
   "source": [
    "plt.plot(my_MLP.loss_during_training,label='Training Loss')\n",
    "plt.plot(my_MLP.valid_loss_during_training,label='Validation Loss')\n",
    "plt.legend()"
   ]
  },
  {
   "cell_type": "code",
   "execution_count": 15,
   "metadata": {
    "colab": {
     "base_uri": "https://localhost:8080/"
    },
    "id": "zv_Khb9-2iHa",
    "outputId": "9a338c63-cff0-4769-b28d-b108471d8f2d"
   },
   "outputs": [
    {
     "name": "stdout",
     "output_type": "stream",
     "text": [
      "tensor(0.9611)\n",
      "tensor(0.8877)\n",
      "tensor(0.8823)\n"
     ]
    }
   ],
   "source": [
    "print(my_MLP.eval_performance(trainloader))\n",
    "print(my_MLP.eval_performance(validloader))\n",
    "print(my_MLP.eval_performance(testloader))"
   ]
  },
  {
   "cell_type": "markdown",
   "metadata": {
    "id": "KT8PX70M5aXn"
   },
   "source": [
    "If we look at the training and validation losses as we train the network, we can see a phenomenon known as overfitting. \n",
    "\n",
    "The network learns the training set better and better, resulting in lower training losses. However, it starts having problems generalizing to data outside the training set leading to the validation loss increasing. The ultimate goal of any deep learning model is to make predictions on new data, so we should strive to get the lowest validation loss possible. One option is to use the version of the model with the lowest validation loss, here the one around 8-10 training epochs. This strategy is called *early-stopping*. In practice, you'd save the model frequently as you're training then later choose the model with the lowest validation loss. **Note that with early stopping we are using the validation set to select the appropiate number of epochs.**\n",
    "\n",
    "> **Exercise:** According to your results, re-train the model again for the right number of epochs (just before the validation loss starts to grow). Compare the train, validation and test performance."
   ]
  },
  {
   "cell_type": "code",
   "execution_count": 16,
   "metadata": {
    "colab": {
     "base_uri": "https://localhost:8080/"
    },
    "id": "6UfX_1Wc5aXn",
    "outputId": "bdd8706c-cd5f-4453-eddd-135b907fd506"
   },
   "outputs": [
    {
     "name": "stdout",
     "output_type": "stream",
     "text": [
      "Epoch 0. Training loss: 0.547935, Validation loss: 0.408127\n",
      "Epoch 1. Training loss: 0.393229, Validation loss: 0.394043\n",
      "Epoch 2. Training loss: 0.348779, Validation loss: 0.386456\n",
      "Epoch 3. Training loss: 0.324325, Validation loss: 0.348342\n",
      "Epoch 4. Training loss: 0.305199, Validation loss: 0.352629\n"
     ]
    }
   ],
   "source": [
    "my_MLP = MLP_extended2(dimx=784,hidden1=256,hidden2=128,hidden3=64,nlabels=10,epochs=5,lr=1e-3)\n",
    "\n",
    "my_MLP.trainloop(trainloader,validloader)"
   ]
  },
  {
   "cell_type": "code",
   "execution_count": 17,
   "metadata": {
    "colab": {
     "base_uri": "https://localhost:8080/"
    },
    "id": "o4fnDXv55aXn",
    "outputId": "514724fa-318f-4045-c047-759c1d608cf6"
   },
   "outputs": [
    {
     "name": "stdout",
     "output_type": "stream",
     "text": [
      "tensor(0.8958)\n",
      "tensor(0.8766)\n",
      "tensor(0.8703)\n"
     ]
    }
   ],
   "source": [
    "print(my_MLP.eval_performance(trainloader))\n",
    "print(my_MLP.eval_performance(validloader))\n",
    "print(my_MLP.eval_performance(testloader))"
   ]
  },
  {
   "cell_type": "markdown",
   "metadata": {
    "id": "48IBgPUI5aXn"
   },
   "source": [
    "## Part III. Using Dropout Regularization\n",
    "\n",
    "The most common method to reduce overfitting (outside of early-stopping) is *dropout*, where we randomly drop input units. This forces the network to share information between weights, increasing its ability to generalize to new data. Adding dropout in PyTorch is straightforward using the [`nn.Dropout`](https://pytorch.org/docs/stable/nn.html#torch.nn.Dropout) module.\n",
    "\n",
    "The following code corresponds to a 2 layer NN where we use dropout in the intermediate hidden space:\n",
    "\n",
    "\n",
    "```python\n",
    "class MLP_dropout(nn.Module):\n",
    "    def __init__(self,dimx,hidden1,nlabels): #Nlabels will be 10 in our case\n",
    "        super().__init__()\n",
    "        \n",
    "        self.output1 = nn.Linear(dimx,hidden1)  \n",
    "        \n",
    "        self.output2 = nn.Linear(hidden1,nlabels)\n",
    "    \n",
    "        self.relu = nn.ReLU()\n",
    "        \n",
    "        self.logsoftmax = nn.LogSoftmax(dim=1)  \n",
    "        \n",
    "        # Dropout module with 0.2 drop probability\n",
    "        self.dropout = nn.Dropout(p=0.2)\n",
    "        \n",
    "    def forward(self, x):\n",
    "        # Pass the input tensor through each of our operations\n",
    "        x = self.output1(x)\n",
    "        x = self.relu(x)\n",
    "        x = self.dropout(x)\n",
    "        x = self.output2(x)\n",
    "        x = self.logsoftmax(x) #YOUR CODE HERE\n",
    "        return x\n",
    "\n",
    "```\n",
    "\n",
    "During training we want to use dropout to prevent overfitting, but during inference we want to use the entire network. So, we need to turn off dropout during validation, testing, and whenever we're using the network to make predictions. To do this, you use `self.eval()`. This sets the model to evaluation mode where the dropout probability is 0. You can turn dropout back on by setting the model to train mode with `self.train()` (**This is why we cannot call our training method `train` anymore**). In general, the pattern for the validation loop will look like this, where you turn off gradients, set the model to evaluation mode, calculate the validation loss and metric, then set the model back to train mode.\n",
    "\n",
    "```python\n",
    "# turn off gradients\n",
    "with torch.no_grad():\n",
    "    \n",
    "    # set model to evaluation mode\n",
    "    self.eval()\n",
    "    \n",
    "    # validation pass here\n",
    "    for images, labels in testloader:\n",
    "        ...\n",
    "\n",
    "# set model back to train mode\n",
    "self.train()\n",
    "```\n",
    "\n",
    "> **Exercise:** \n",
    "> - Create a new NN class that modifies the previous one by incorporating a dropout step with `p=0.2`  after every ReLU non-linearity is applied. \n",
    "> - Modify the extended class to set `model.eval()` when appropiate (do not forget to go back to `model.train()`)\n",
    "> - For this new model, plot the evolution of the training and validation losses. Compare with the case with no dropout. Discuss the results. Is early stopping still required? If so, when you should stop training? Compare the train, validation and test performance.\n",
    "> - Repeat the experiments for a dropout probability of `p=0.1` and `p=0.3`. Which value provides the best validation performance? "
   ]
  },
  {
   "cell_type": "code",
   "execution_count": 18,
   "metadata": {
    "id": "8BhaEllb5aXn"
   },
   "outputs": [],
   "source": [
    "class MLPdrop(nn.Module):\n",
    "    def __init__(self,dimx,hidden1,hidden2,hidden3,nlabels,prob): #Nlabels will be 10 in our case\n",
    "        super().__init__()\n",
    "        \n",
    "        self.output1 = nn.Linear(dimx,hidden1)\n",
    "        \n",
    "        self.output2 = nn.Linear(hidden1,hidden2)\n",
    "        \n",
    "        self.output3 = nn.Linear(hidden2,hidden3)\n",
    "        \n",
    "        self.output4 = nn.Linear(hidden3,nlabels)\n",
    "    \n",
    "        self.relu = nn.ReLU()\n",
    "        \n",
    "        self.logsoftmax = nn.LogSoftmax(dim=1)   \n",
    "        \n",
    "        # Dropout module with 0.2 drop probability\n",
    "        self.dropout = nn.Dropout(p=prob)\n",
    "        \n",
    "        \n",
    "    def forward(self, x):\n",
    "        # Pass the input tensor through each of our operations\n",
    "        x = self.output1(x)\n",
    "        x = self.relu(x)\n",
    "        x = self.dropout(x)        \n",
    "        x = self.output2(x)\n",
    "        x = self.relu(x)\n",
    "        x = self.dropout(x)        \n",
    "        x = self.output3(x)\n",
    "        x = self.relu(x)\n",
    "        x = self.dropout(x)        \n",
    "        x = self.output4(x)\n",
    "        x = self.logsoftmax(x) #YOUR CODE HERE\n",
    "        return x"
   ]
  },
  {
   "cell_type": "code",
   "execution_count": 19,
   "metadata": {
    "id": "FfcNa-Kp5aXo"
   },
   "outputs": [],
   "source": [
    "class MLPdrop_extended(MLPdrop):\n",
    "    \n",
    "    #Your code here\n",
    "    \n",
    "    def __init__(self,dimx,hidden1,hidden2,hidden3,nlabels,prob,epochs=100,lr=0.001):\n",
    "        \n",
    "        super().__init__(dimx,hidden1,hidden2,hidden3,nlabels,prob)  #To initialize `MLP`!\n",
    "        \n",
    "        self.lr = lr #Learning Rate\n",
    "        \n",
    "        self.optim = optim.Adam(self.parameters(), self.lr)\n",
    "        \n",
    "        self.epochs = epochs\n",
    "        \n",
    "        self.criterion = nn.NLLLoss()             \n",
    "        \n",
    "        # A list to store the loss evolution along training\n",
    "        \n",
    "        self.loss_during_training = [] \n",
    "        \n",
    "        self.valid_loss_during_training = [] \n",
    "        \n",
    "    def trainloop(self,trainloader,validloader):\n",
    "        \n",
    "        # set model back to train mode\n",
    "        self.train()\n",
    "        \n",
    "        # Optimization Loop\n",
    "        \n",
    "        for e in range(int(self.epochs)):\n",
    "            \n",
    "            # Random data permutation at each epoch\n",
    "            \n",
    "            running_loss = 0.\n",
    "            \n",
    "            for images, labels in trainloader:              \n",
    "        \n",
    "                self.optim.zero_grad()  #TO RESET GRADIENTS!\n",
    "            \n",
    "                out = self.forward(images.view(images.shape[0], -1))\n",
    "\n",
    "                #Your code here\n",
    "                loss = self.criterion(out,labels)\n",
    "\n",
    "                running_loss += loss.item()\n",
    "\n",
    "                #Your code here\n",
    "                loss.backward()\n",
    "                \n",
    "                #Your code here\n",
    "                self.optim.step()\n",
    "                \n",
    "                \n",
    "            self.loss_during_training.append(running_loss/len(trainloader))\n",
    "            \n",
    "            # Validation Loss\n",
    "            \n",
    "            # Turn off gradients for validation, saves memory and computations\n",
    "            with torch.no_grad(): \n",
    "                \n",
    "                # set model to evaluation mode\n",
    "                self.eval()\n",
    "                \n",
    "                running_loss = 0.\n",
    "                \n",
    "                for images,labels in validloader:\n",
    "                    \n",
    "                    out = self.forward(images.view(images.shape[0], -1))\n",
    "\n",
    "                    #Your code here\n",
    "                    loss = self.criterion(out,labels)\n",
    "\n",
    "                    running_loss += loss.item()   \n",
    "                    \n",
    "                self.valid_loss_during_training.append(running_loss/len(validloader))    \n",
    "                    \n",
    "            # set model back to train mode\n",
    "            self.train()\n",
    "                    \n",
    "            if(e % 1 == 0): # Every 1 epoch(s)\n",
    "\n",
    "                print(\"Epoch %d. Training loss: %f, Validation loss: %f\" \n",
    "                      %(e,self.loss_during_training[-1],self.valid_loss_during_training[-1]))\n",
    "\n",
    "    def eval_performance(self,dataloader):\n",
    "        \n",
    "        loss = 0\n",
    "        accuracy = 0\n",
    "\n",
    "        # Turn off gradients for validation, saves memory and computations\n",
    "        with torch.no_grad():\n",
    "            \n",
    "            # set model to evaluation mode\n",
    "            self.eval()\n",
    "\n",
    "            for images,labels in dataloader:\n",
    "\n",
    "                probs = self.forward(images.view(images.shape[0], -1))\n",
    "\n",
    "                top_p, top_class = probs.topk(1, dim=1)\n",
    "                equals = (top_class == labels.view(images.shape[0], 1))\n",
    "                accuracy += torch.mean(equals.type(torch.FloatTensor))\n",
    "    \n",
    "            return accuracy/len(dataloader)"
   ]
  },
  {
   "cell_type": "code",
   "execution_count": 20,
   "metadata": {
    "colab": {
     "base_uri": "https://localhost:8080/"
    },
    "id": "VNUrO0Kx5aXo",
    "outputId": "65d875b5-d823-4158-8c18-f6f9c5216f70"
   },
   "outputs": [
    {
     "name": "stdout",
     "output_type": "stream",
     "text": [
      "Epoch 0. Training loss: 0.592797, Validation loss: 0.436602\n",
      "Epoch 1. Training loss: 0.422696, Validation loss: 0.403505\n",
      "Epoch 2. Training loss: 0.382025, Validation loss: 0.383463\n",
      "Epoch 3. Training loss: 0.357535, Validation loss: 0.358721\n",
      "Epoch 4. Training loss: 0.334930, Validation loss: 0.346225\n",
      "Epoch 5. Training loss: 0.321054, Validation loss: 0.349690\n",
      "Epoch 6. Training loss: 0.307412, Validation loss: 0.333928\n",
      "Epoch 7. Training loss: 0.295392, Validation loss: 0.334636\n",
      "Epoch 8. Training loss: 0.287347, Validation loss: 0.323023\n",
      "Epoch 9. Training loss: 0.275616, Validation loss: 0.346241\n",
      "Epoch 10. Training loss: 0.265840, Validation loss: 0.328573\n",
      "Epoch 11. Training loss: 0.261491, Validation loss: 0.323139\n",
      "Epoch 12. Training loss: 0.254309, Validation loss: 0.318529\n",
      "Epoch 13. Training loss: 0.248796, Validation loss: 0.317516\n",
      "Epoch 14. Training loss: 0.243552, Validation loss: 0.319743\n",
      "Epoch 15. Training loss: 0.231758, Validation loss: 0.318261\n",
      "Epoch 16. Training loss: 0.228845, Validation loss: 0.311134\n",
      "Epoch 17. Training loss: 0.219576, Validation loss: 0.328992\n",
      "Epoch 18. Training loss: 0.217804, Validation loss: 0.324351\n",
      "Epoch 19. Training loss: 0.214058, Validation loss: 0.333554\n",
      "Epoch 20. Training loss: 0.207964, Validation loss: 0.331654\n",
      "Epoch 21. Training loss: 0.201372, Validation loss: 0.325950\n",
      "Epoch 22. Training loss: 0.195239, Validation loss: 0.356080\n",
      "Epoch 23. Training loss: 0.191592, Validation loss: 0.363827\n",
      "Epoch 24. Training loss: 0.191344, Validation loss: 0.344078\n",
      "Epoch 25. Training loss: 0.184864, Validation loss: 0.372062\n",
      "Epoch 26. Training loss: 0.185482, Validation loss: 0.388709\n",
      "Epoch 27. Training loss: 0.181017, Validation loss: 0.358795\n",
      "Epoch 28. Training loss: 0.171973, Validation loss: 0.360199\n",
      "Epoch 29. Training loss: 0.170502, Validation loss: 0.369018\n"
     ]
    }
   ],
   "source": [
    "my_MLP_drop = MLPdrop_extended(dimx=784,hidden1=256,hidden2=128,hidden3=64,nlabels=10,epochs=30,lr=1e-3,prob=0.1)\n",
    "\n",
    "my_MLP_drop.trainloop(trainloader,validloader)"
   ]
  },
  {
   "cell_type": "code",
   "execution_count": 21,
   "metadata": {
    "colab": {
     "base_uri": "https://localhost:8080/",
     "height": 282
    },
    "id": "z7rfhANG5aXo",
    "outputId": "1639e303-1fc0-4265-8b67-d03bfcc80c86"
   },
   "outputs": [
    {
     "data": {
      "text/plain": [
       "<matplotlib.legend.Legend at 0x17f7e5e10>"
      ]
     },
     "execution_count": 21,
     "metadata": {},
     "output_type": "execute_result"
    },
    {
     "data": {
      "image/png": "[encoded data removed]",
      "text/plain": [
       "<Figure size 640x480 with 1 Axes>"
      ]
     },
     "metadata": {
      "image/png": {
       "height": 413,
       "width": 549
      }
     },
     "output_type": "display_data"
    }
   ],
   "source": [
    "plt.plot(my_MLP_drop.loss_during_training,label='Training Loss')\n",
    "plt.plot(my_MLP_drop.valid_loss_during_training,label='Validation Loss')\n",
    "plt.legend()"
   ]
  },
  {
   "cell_type": "code",
   "execution_count": 22,
   "metadata": {
    "colab": {
     "base_uri": "https://localhost:8080/"
    },
    "id": "wPJ5wSBY5aXo",
    "outputId": "5f96a938-72a2-4c97-fd45-d7ec36c76c27"
   },
   "outputs": [
    {
     "name": "stdout",
     "output_type": "stream",
     "text": [
      "tensor(0.9488)\n",
      "tensor(0.8932)\n",
      "tensor(0.8864)\n"
     ]
    }
   ],
   "source": [
    "print(my_MLP_drop.eval_performance(trainloader))\n",
    "print(my_MLP_drop.eval_performance(validloader))\n",
    "print(my_MLP_drop.eval_performance(testloader))"
   ]
  },
  {
   "cell_type": "code",
   "execution_count": 23,
   "metadata": {
    "colab": {
     "base_uri": "https://localhost:8080/"
    },
    "id": "Gg54tr4I5aXo",
    "outputId": "ebd1428b-e2e0-47d1-e311-30b93e414b13"
   },
   "outputs": [
    {
     "name": "stdout",
     "output_type": "stream",
     "text": [
      "Epoch 0. Training loss: 0.699747, Validation loss: 0.493583\n",
      "Epoch 1. Training loss: 0.498606, Validation loss: 0.430286\n",
      "Epoch 2. Training loss: 0.456110, Validation loss: 0.388156\n",
      "Epoch 3. Training loss: 0.423119, Validation loss: 0.368529\n",
      "Epoch 4. Training loss: 0.405662, Validation loss: 0.367377\n",
      "Epoch 5. Training loss: 0.393144, Validation loss: 0.366739\n",
      "Epoch 6. Training loss: 0.376603, Validation loss: 0.351858\n",
      "Epoch 7. Training loss: 0.366859, Validation loss: 0.345113\n",
      "Epoch 8. Training loss: 0.361354, Validation loss: 0.341404\n",
      "Epoch 9. Training loss: 0.350590, Validation loss: 0.339027\n",
      "Epoch 10. Training loss: 0.342223, Validation loss: 0.333526\n",
      "Epoch 11. Training loss: 0.336145, Validation loss: 0.336964\n",
      "Epoch 12. Training loss: 0.330864, Validation loss: 0.330977\n",
      "Epoch 13. Training loss: 0.324776, Validation loss: 0.329882\n",
      "Epoch 14. Training loss: 0.320353, Validation loss: 0.328613\n",
      "Epoch 15. Training loss: 0.318196, Validation loss: 0.337132\n",
      "Epoch 16. Training loss: 0.314327, Validation loss: 0.324664\n",
      "Epoch 17. Training loss: 0.311613, Validation loss: 0.330409\n",
      "Epoch 18. Training loss: 0.303140, Validation loss: 0.334667\n",
      "Epoch 19. Training loss: 0.302942, Validation loss: 0.329537\n",
      "Epoch 20. Training loss: 0.297805, Validation loss: 0.316000\n",
      "Epoch 21. Training loss: 0.292583, Validation loss: 0.323482\n",
      "Epoch 22. Training loss: 0.288110, Validation loss: 0.321465\n",
      "Epoch 23. Training loss: 0.285953, Validation loss: 0.340461\n",
      "Epoch 24. Training loss: 0.284692, Validation loss: 0.332078\n",
      "Epoch 25. Training loss: 0.276710, Validation loss: 0.318353\n",
      "Epoch 26. Training loss: 0.278368, Validation loss: 0.325670\n",
      "Epoch 27. Training loss: 0.276911, Validation loss: 0.322330\n",
      "Epoch 28. Training loss: 0.273548, Validation loss: 0.335106\n",
      "Epoch 29. Training loss: 0.272613, Validation loss: 0.324512\n"
     ]
    }
   ],
   "source": [
    "my_MLP_drop = MLPdrop_extended(dimx=784,hidden1=256,hidden2=128,hidden3=64,nlabels=10,epochs=30,lr=1e-3,prob=0.3)\n",
    "\n",
    "my_MLP_drop.trainloop(trainloader,validloader)"
   ]
  },
  {
   "cell_type": "code",
   "execution_count": 24,
   "metadata": {
    "colab": {
     "base_uri": "https://localhost:8080/",
     "height": 282
    },
    "id": "yKpUAdlF4UVG",
    "outputId": "e92d57ec-5616-412e-b65b-2985172d7319"
   },
   "outputs": [
    {
     "data": {
      "text/plain": [
       "<matplotlib.legend.Legend at 0x3111f2a70>"
      ]
     },
     "execution_count": 24,
     "metadata": {},
     "output_type": "execute_result"
    },
    {
     "data": {
      "image/png": "[encoded data removed]",
      "text/plain": [
       "<Figure size 640x480 with 1 Axes>"
      ]
     },
     "metadata": {
      "image/png": {
       "height": 413,
       "width": 549
      }
     },
     "output_type": "display_data"
    }
   ],
   "source": [
    "plt.plot(my_MLP_drop.loss_during_training,label='Training Loss')\n",
    "plt.plot(my_MLP_drop.valid_loss_during_training,label='Validation Loss')\n",
    "plt.legend()"
   ]
  },
  {
   "cell_type": "code",
   "execution_count": 25,
   "metadata": {
    "colab": {
     "base_uri": "https://localhost:8080/"
    },
    "id": "9BYuUrHt4Up5",
    "outputId": "5e0c9211-b325-45ac-9c25-e4de5ad1de53"
   },
   "outputs": [
    {
     "name": "stdout",
     "output_type": "stream",
     "text": [
      "tensor(0.9216)\n",
      "tensor(0.8864)\n",
      "tensor(0.8815)\n"
     ]
    }
   ],
   "source": [
    "print(my_MLP_drop.eval_performance(trainloader))\n",
    "print(my_MLP_drop.eval_performance(validloader))\n",
    "print(my_MLP_drop.eval_performance(testloader))"
   ]
  },
  {
   "cell_type": "code",
   "execution_count": null,
   "metadata": {},
   "outputs": [],
   "source": []
  }
 ],
 "metadata": {
  "colab": {
   "collapsed_sections": [],
   "name": "Lab_2_Part_2.ipynb",
   "provenance": []
  },
  "kernelspec": {
   "display_name": "Python 3 (ipykernel)",
   "language": "python",
   "name": "python3"
  },
  "language_info": {
   "codemirror_mode": {
    "name": "ipython",
    "version": 3
   },
   "file_extension": ".py",
   "mimetype": "text/x-python",
   "name": "python",
   "nbconvert_exporter": "python",
   "pygments_lexer": "ipython3",
   "version": "3.10.9"
  },
  "widgets": {
   "application/vnd.jupyter.widget-state+json": {
    "0e7f8ca18b8b49a6b1aa9a2821947669": {
     "model_module": "@jupyter-widgets/base",
     "model_name": "LayoutModel",
     "state": {
      "_model_module": "@jupyter-widgets/base",
      "_model_module_version": "1.2.0",
      "_model_name": "LayoutModel",
      "_view_count": null,
      "_view_module": "@jupyter-widgets/base",
      "_view_module_version": "1.2.0",
      "_view_name": "LayoutView",
      "align_content": null,
      "align_items": null,
      "align_self": null,
      "border": null,
      "bottom": null,
      "display": null,
      "flex": null,
      "flex_flow": null,
      "grid_area": null,
      "grid_auto_columns": null,
      "grid_auto_flow": null,
      "grid_auto_rows": null,
      "grid_column": null,
      "grid_gap": null,
      "grid_row": null,
      "grid_template_areas": null,
      "grid_template_columns": null,
      "grid_template_rows": null,
      "height": null,
      "justify_content": null,
      "justify_items": null,
      "left": null,
      "margin": null,
      "max_height": null,
      "max_width": null,
      "min_height": null,
      "min_width": null,
      "object_fit": null,
      "object_position": null,
      "order": null,
      "overflow": null,
      "overflow_x": null,
      "overflow_y": null,
      "padding": null,
      "right": null,
      "top": null,
      "visibility": null,
      "width": null
     }
    },
    "1083d92290b84a179be777f6bbf189bc": {
     "model_module": "@jupyter-widgets/controls",
     "model_name": "DescriptionStyleModel",
     "state": {
      "_model_module": "@jupyter-widgets/controls",
      "_model_module_version": "1.5.0",
      "_model_name": "DescriptionStyleModel",
      "_view_count": null,
      "_view_module": "@jupyter-widgets/base",
      "_view_module_version": "1.2.0",
      "_view_name": "StyleView",
      "description_width": ""
     }
    },
    "1692eb8e070541b99b7e2c768784842e": {
     "model_module": "@jupyter-widgets/controls",
     "model_name": "HTMLModel",
     "state": {
      "_dom_classes": [],
      "_model_module": "@jupyter-widgets/controls",
      "_model_module_version": "1.5.0",
      "_model_name": "HTMLModel",
      "_view_count": null,
      "_view_module": "@jupyter-widgets/controls",
      "_view_module_version": "1.5.0",
      "_view_name": "HTMLView",
      "description": "",
      "description_tooltip": null,
      "layout": "IPY_MODEL_c22fb417522f49fda77032751e1642c1",
      "placeholder": "​",
      "style": "IPY_MODEL_cc38ecde182a481f9dbb95f1571e8614",
      "value": " 32768/? [00:02&lt;00:00, 14107.19it/s]"
     }
    },
    "2e106dae2b484260b54a7558d2a04b17": {
     "model_module": "@jupyter-widgets/base",
     "model_name": "LayoutModel",
     "state": {
      "_model_module": "@jupyter-widgets/base",
      "_model_module_version": "1.2.0",
      "_model_name": "LayoutModel",
      "_view_count": null,
      "_view_module": "@jupyter-widgets/base",
      "_view_module_version": "1.2.0",
      "_view_name": "LayoutView",
      "align_content": null,
      "align_items": null,
      "align_self": null,
      "border": null,
      "bottom": null,
      "display": null,
      "flex": null,
      "flex_flow": null,
      "grid_area": null,
      "grid_auto_columns": null,
      "grid_auto_flow": null,
      "grid_auto_rows": null,
      "grid_column": null,
      "grid_gap": null,
      "grid_row": null,
      "grid_template_areas": null,
      "grid_template_columns": null,
      "grid_template_rows": null,
      "height": null,
      "justify_content": null,
      "justify_items": null,
      "left": null,
      "margin": null,
      "max_height": null,
      "max_width": null,
      "min_height": null,
      "min_width": null,
      "object_fit": null,
      "object_position": null,
      "order": null,
      "overflow": null,
      "overflow_x": null,
      "overflow_y": null,
      "padding": null,
      "right": null,
      "top": null,
      "visibility": null,
      "width": null
     }
    },
    "3310266025704ccdb6608f466b76c5c0": {
     "model_module": "@jupyter-widgets/controls",
     "model_name": "DescriptionStyleModel",
     "state": {
      "_model_module": "@jupyter-widgets/controls",
      "_model_module_version": "1.5.0",
      "_model_name": "DescriptionStyleModel",
      "_view_count": null,
      "_view_module": "@jupyter-widgets/base",
      "_view_module_version": "1.2.0",
      "_view_name": "StyleView",
      "description_width": ""
     }
    },
    "36eab5792ad64c439ff146b9e5702878": {
     "model_module": "@jupyter-widgets/controls",
     "model_name": "ProgressStyleModel",
     "state": {
      "_model_module": "@jupyter-widgets/controls",
      "_model_module_version": "1.5.0",
      "_model_name": "ProgressStyleModel",
      "_view_count": null,
      "_view_module": "@jupyter-widgets/base",
      "_view_module_version": "1.2.0",
      "_view_name": "StyleView",
      "bar_color": null,
      "description_width": "initial"
     }
    },
    "41031b01f4ee41259fc1318e485a2ec5": {
     "model_module": "@jupyter-widgets/base",
     "model_name": "LayoutModel",
     "state": {
      "_model_module": "@jupyter-widgets/base",
      "_model_module_version": "1.2.0",
      "_model_name": "LayoutModel",
      "_view_count": null,
      "_view_module": "@jupyter-widgets/base",
      "_view_module_version": "1.2.0",
      "_view_name": "LayoutView",
      "align_content": null,
      "align_items": null,
      "align_self": null,
      "border": null,
      "bottom": null,
      "display": null,
      "flex": null,
      "flex_flow": null,
      "grid_area": null,
      "grid_auto_columns": null,
      "grid_auto_flow": null,
      "grid_auto_rows": null,
      "grid_column": null,
      "grid_gap": null,
      "grid_row": null,
      "grid_template_areas": null,
      "grid_template_columns": null,
      "grid_template_rows": null,
      "height": null,
      "justify_content": null,
      "justify_items": null,
      "left": null,
      "margin": null,
      "max_height": null,
      "max_width": null,
      "min_height": null,
      "min_width": null,
      "object_fit": null,
      "object_position": null,
      "order": null,
      "overflow": null,
      "overflow_x": null,
      "overflow_y": null,
      "padding": null,
      "right": null,
      "top": null,
      "visibility": null,
      "width": null
     }
    },
    "423cea9282f64ff1af98162d28614de2": {
     "model_module": "@jupyter-widgets/controls",
     "model_name": "HBoxModel",
     "state": {
      "_dom_classes": [],
      "_model_module": "@jupyter-widgets/controls",
      "_model_module_version": "1.5.0",
      "_model_name": "HBoxModel",
      "_view_count": null,
      "_view_module": "@jupyter-widgets/controls",
      "_view_module_version": "1.5.0",
      "_view_name": "HBoxView",
      "box_style": "",
      "children": [
       "IPY_MODEL_42c8538ed676418f8d609590377aca23",
       "IPY_MODEL_754c9b5cdc024c11afba61ba42f03e1a"
      ],
      "layout": "IPY_MODEL_2e106dae2b484260b54a7558d2a04b17"
     }
    },
    "42c8538ed676418f8d609590377aca23": {
     "model_module": "@jupyter-widgets/controls",
     "model_name": "FloatProgressModel",
     "state": {
      "_dom_classes": [],
      "_model_module": "@jupyter-widgets/controls",
      "_model_module_version": "1.5.0",
      "_model_name": "FloatProgressModel",
      "_view_count": null,
      "_view_module": "@jupyter-widgets/controls",
      "_view_module_version": "1.5.0",
      "_view_name": "ProgressView",
      "bar_style": "success",
      "description": "",
      "description_tooltip": null,
      "layout": "IPY_MODEL_621c89f13ed3445c84e61ee3bdf65067",
      "max": 1,
      "min": 0,
      "orientation": "horizontal",
      "style": "IPY_MODEL_d2224c1aeaa64ec1930951b25ba76dde",
      "value": 1
     }
    },
    "44fe19958dcc4f88980bf8af78b7cfbc": {
     "model_module": "@jupyter-widgets/controls",
     "model_name": "HTMLModel",
     "state": {
      "_dom_classes": [],
      "_model_module": "@jupyter-widgets/controls",
      "_model_module_version": "1.5.0",
      "_model_name": "HTMLModel",
      "_view_count": null,
      "_view_module": "@jupyter-widgets/controls",
      "_view_module_version": "1.5.0",
      "_view_name": "HTMLView",
      "description": "",
      "description_tooltip": null,
      "layout": "IPY_MODEL_b92eec98d7544d2f9276431d0f114d48",
      "placeholder": "​",
      "style": "IPY_MODEL_d634b3ad00b94edc8f8e355c3b5ddcf0",
      "value": " 8192/? [00:00&lt;00:00, 11779.85it/s]"
     }
    },
    "4a8a1496c27444729acccc3b5d669742": {
     "model_module": "@jupyter-widgets/base",
     "model_name": "LayoutModel",
     "state": {
      "_model_module": "@jupyter-widgets/base",
      "_model_module_version": "1.2.0",
      "_model_name": "LayoutModel",
      "_view_count": null,
      "_view_module": "@jupyter-widgets/base",
      "_view_module_version": "1.2.0",
      "_view_name": "LayoutView",
      "align_content": null,
      "align_items": null,
      "align_self": null,
      "border": null,
      "bottom": null,
      "display": null,
      "flex": null,
      "flex_flow": null,
      "grid_area": null,
      "grid_auto_columns": null,
      "grid_auto_flow": null,
      "grid_auto_rows": null,
      "grid_column": null,
      "grid_gap": null,
      "grid_row": null,
      "grid_template_areas": null,
      "grid_template_columns": null,
      "grid_template_rows": null,
      "height": null,
      "justify_content": null,
      "justify_items": null,
      "left": null,
      "margin": null,
      "max_height": null,
      "max_width": null,
      "min_height": null,
      "min_width": null,
      "object_fit": null,
      "object_position": null,
      "order": null,
      "overflow": null,
      "overflow_x": null,
      "overflow_y": null,
      "padding": null,
      "right": null,
      "top": null,
      "visibility": null,
      "width": null
     }
    },
    "621c89f13ed3445c84e61ee3bdf65067": {
     "model_module": "@jupyter-widgets/base",
     "model_name": "LayoutModel",
     "state": {
      "_model_module": "@jupyter-widgets/base",
      "_model_module_version": "1.2.0",
      "_model_name": "LayoutModel",
      "_view_count": null,
      "_view_module": "@jupyter-widgets/base",
      "_view_module_version": "1.2.0",
      "_view_name": "LayoutView",
      "align_content": null,
      "align_items": null,
      "align_self": null,
      "border": null,
      "bottom": null,
      "display": null,
      "flex": null,
      "flex_flow": null,
      "grid_area": null,
      "grid_auto_columns": null,
      "grid_auto_flow": null,
      "grid_auto_rows": null,
      "grid_column": null,
      "grid_gap": null,
      "grid_row": null,
      "grid_template_areas": null,
      "grid_template_columns": null,
      "grid_template_rows": null,
      "height": null,
      "justify_content": null,
      "justify_items": null,
      "left": null,
      "margin": null,
      "max_height": null,
      "max_width": null,
      "min_height": null,
      "min_width": null,
      "object_fit": null,
      "object_position": null,
      "order": null,
      "overflow": null,
      "overflow_x": null,
      "overflow_y": null,
      "padding": null,
      "right": null,
      "top": null,
      "visibility": null,
      "width": null
     }
    },
    "648e1e1ce6a842fd84236f9454266fd8": {
     "model_module": "@jupyter-widgets/controls",
     "model_name": "FloatProgressModel",
     "state": {
      "_dom_classes": [],
      "_model_module": "@jupyter-widgets/controls",
      "_model_module_version": "1.5.0",
      "_model_name": "FloatProgressModel",
      "_view_count": null,
      "_view_module": "@jupyter-widgets/controls",
      "_view_module_version": "1.5.0",
      "_view_name": "ProgressView",
      "bar_style": "success",
      "description": "",
      "description_tooltip": null,
      "layout": "IPY_MODEL_b8812dfcbd9843ddbd5371e956b680dc",
      "max": 1,
      "min": 0,
      "orientation": "horizontal",
      "style": "IPY_MODEL_74961f0eb1ac4c2887d0a4bf4448dde0",
      "value": 1
     }
    },
    "70c354058e96481ea7f6bdda5f5d729a": {
     "model_module": "@jupyter-widgets/base",
     "model_name": "LayoutModel",
     "state": {
      "_model_module": "@jupyter-widgets/base",
      "_model_module_version": "1.2.0",
      "_model_name": "LayoutModel",
      "_view_count": null,
      "_view_module": "@jupyter-widgets/base",
      "_view_module_version": "1.2.0",
      "_view_name": "LayoutView",
      "align_content": null,
      "align_items": null,
      "align_self": null,
      "border": null,
      "bottom": null,
      "display": null,
      "flex": null,
      "flex_flow": null,
      "grid_area": null,
      "grid_auto_columns": null,
      "grid_auto_flow": null,
      "grid_auto_rows": null,
      "grid_column": null,
      "grid_gap": null,
      "grid_row": null,
      "grid_template_areas": null,
      "grid_template_columns": null,
      "grid_template_rows": null,
      "height": null,
      "justify_content": null,
      "justify_items": null,
      "left": null,
      "margin": null,
      "max_height": null,
      "max_width": null,
      "min_height": null,
      "min_width": null,
      "object_fit": null,
      "object_position": null,
      "order": null,
      "overflow": null,
      "overflow_x": null,
      "overflow_y": null,
      "padding": null,
      "right": null,
      "top": null,
      "visibility": null,
      "width": null
     }
    },
    "74961f0eb1ac4c2887d0a4bf4448dde0": {
     "model_module": "@jupyter-widgets/controls",
     "model_name": "ProgressStyleModel",
     "state": {
      "_model_module": "@jupyter-widgets/controls",
      "_model_module_version": "1.5.0",
      "_model_name": "ProgressStyleModel",
      "_view_count": null,
      "_view_module": "@jupyter-widgets/base",
      "_view_module_version": "1.2.0",
      "_view_name": "StyleView",
      "bar_color": null,
      "description_width": "initial"
     }
    },
    "754c9b5cdc024c11afba61ba42f03e1a": {
     "model_module": "@jupyter-widgets/controls",
     "model_name": "HTMLModel",
     "state": {
      "_dom_classes": [],
      "_model_module": "@jupyter-widgets/controls",
      "_model_module_version": "1.5.0",
      "_model_name": "HTMLModel",
      "_view_count": null,
      "_view_module": "@jupyter-widgets/controls",
      "_view_module_version": "1.5.0",
      "_view_name": "HTMLView",
      "description": "",
      "description_tooltip": null,
      "layout": "IPY_MODEL_41031b01f4ee41259fc1318e485a2ec5",
      "placeholder": "​",
      "style": "IPY_MODEL_3310266025704ccdb6608f466b76c5c0",
      "value": " 4423680/? [00:01&lt;00:00, 2357176.91it/s]"
     }
    },
    "83b34c8548f94f6db47e88bc8ef511b1": {
     "model_module": "@jupyter-widgets/controls",
     "model_name": "FloatProgressModel",
     "state": {
      "_dom_classes": [],
      "_model_module": "@jupyter-widgets/controls",
      "_model_module_version": "1.5.0",
      "_model_name": "FloatProgressModel",
      "_view_count": null,
      "_view_module": "@jupyter-widgets/controls",
      "_view_module_version": "1.5.0",
      "_view_name": "ProgressView",
      "bar_style": "success",
      "description": "",
      "description_tooltip": null,
      "layout": "IPY_MODEL_4a8a1496c27444729acccc3b5d669742",
      "max": 1,
      "min": 0,
      "orientation": "horizontal",
      "style": "IPY_MODEL_36eab5792ad64c439ff146b9e5702878",
      "value": 1
     }
    },
    "91f8cd1ed22f43c5801360e36cb33279": {
     "model_module": "@jupyter-widgets/base",
     "model_name": "LayoutModel",
     "state": {
      "_model_module": "@jupyter-widgets/base",
      "_model_module_version": "1.2.0",
      "_model_name": "LayoutModel",
      "_view_count": null,
      "_view_module": "@jupyter-widgets/base",
      "_view_module_version": "1.2.0",
      "_view_name": "LayoutView",
      "align_content": null,
      "align_items": null,
      "align_self": null,
      "border": null,
      "bottom": null,
      "display": null,
      "flex": null,
      "flex_flow": null,
      "grid_area": null,
      "grid_auto_columns": null,
      "grid_auto_flow": null,
      "grid_auto_rows": null,
      "grid_column": null,
      "grid_gap": null,
      "grid_row": null,
      "grid_template_areas": null,
      "grid_template_columns": null,
      "grid_template_rows": null,
      "height": null,
      "justify_content": null,
      "justify_items": null,
      "left": null,
      "margin": null,
      "max_height": null,
      "max_width": null,
      "min_height": null,
      "min_width": null,
      "object_fit": null,
      "object_position": null,
      "order": null,
      "overflow": null,
      "overflow_x": null,
      "overflow_y": null,
      "padding": null,
      "right": null,
      "top": null,
      "visibility": null,
      "width": null
     }
    },
    "9607d7544a8c4b6f92b09653b29294b6": {
     "model_module": "@jupyter-widgets/controls",
     "model_name": "FloatProgressModel",
     "state": {
      "_dom_classes": [],
      "_model_module": "@jupyter-widgets/controls",
      "_model_module_version": "1.5.0",
      "_model_name": "FloatProgressModel",
      "_view_count": null,
      "_view_module": "@jupyter-widgets/controls",
      "_view_module_version": "1.5.0",
      "_view_name": "ProgressView",
      "bar_style": "success",
      "description": "",
      "description_tooltip": null,
      "layout": "IPY_MODEL_d37f307a2ab949fd80d530af53db353f",
      "max": 1,
      "min": 0,
      "orientation": "horizontal",
      "style": "IPY_MODEL_c8dcddf3881041fd8445ad9cf556f50c",
      "value": 1
     }
    },
    "9cb2ef5d3e194f7e9bd036182b310f18": {
     "model_module": "@jupyter-widgets/controls",
     "model_name": "HTMLModel",
     "state": {
      "_dom_classes": [],
      "_model_module": "@jupyter-widgets/controls",
      "_model_module_version": "1.5.0",
      "_model_name": "HTMLModel",
      "_view_count": null,
      "_view_module": "@jupyter-widgets/controls",
      "_view_module_version": "1.5.0",
      "_view_name": "HTMLView",
      "description": "",
      "description_tooltip": null,
      "layout": "IPY_MODEL_70c354058e96481ea7f6bdda5f5d729a",
      "placeholder": "​",
      "style": "IPY_MODEL_1083d92290b84a179be777f6bbf189bc",
      "value": " 26427392/? [00:04&lt;00:00, 5606790.80it/s]"
     }
    },
    "a0e75e118eb84d4bb56abd1ef8ed77b6": {
     "model_module": "@jupyter-widgets/controls",
     "model_name": "HBoxModel",
     "state": {
      "_dom_classes": [],
      "_model_module": "@jupyter-widgets/controls",
      "_model_module_version": "1.5.0",
      "_model_name": "HBoxModel",
      "_view_count": null,
      "_view_module": "@jupyter-widgets/controls",
      "_view_module_version": "1.5.0",
      "_view_name": "HBoxView",
      "box_style": "",
      "children": [
       "IPY_MODEL_9607d7544a8c4b6f92b09653b29294b6",
       "IPY_MODEL_44fe19958dcc4f88980bf8af78b7cfbc"
      ],
      "layout": "IPY_MODEL_91f8cd1ed22f43c5801360e36cb33279"
     }
    },
    "b8812dfcbd9843ddbd5371e956b680dc": {
     "model_module": "@jupyter-widgets/base",
     "model_name": "LayoutModel",
     "state": {
      "_model_module": "@jupyter-widgets/base",
      "_model_module_version": "1.2.0",
      "_model_name": "LayoutModel",
      "_view_count": null,
      "_view_module": "@jupyter-widgets/base",
      "_view_module_version": "1.2.0",
      "_view_name": "LayoutView",
      "align_content": null,
      "align_items": null,
      "align_self": null,
      "border": null,
      "bottom": null,
      "display": null,
      "flex": null,
      "flex_flow": null,
      "grid_area": null,
      "grid_auto_columns": null,
      "grid_auto_flow": null,
      "grid_auto_rows": null,
      "grid_column": null,
      "grid_gap": null,
      "grid_row": null,
      "grid_template_areas": null,
      "grid_template_columns": null,
      "grid_template_rows": null,
      "height": null,
      "justify_content": null,
      "justify_items": null,
      "left": null,
      "margin": null,
      "max_height": null,
      "max_width": null,
      "min_height": null,
      "min_width": null,
      "object_fit": null,
      "object_position": null,
      "order": null,
      "overflow": null,
      "overflow_x": null,
      "overflow_y": null,
      "padding": null,
      "right": null,
      "top": null,
      "visibility": null,
      "width": null
     }
    },
    "b92eec98d7544d2f9276431d0f114d48": {
     "model_module": "@jupyter-widgets/base",
     "model_name": "LayoutModel",
     "state": {
      "_model_module": "@jupyter-widgets/base",
      "_model_module_version": "1.2.0",
      "_model_name": "LayoutModel",
      "_view_count": null,
      "_view_module": "@jupyter-widgets/base",
      "_view_module_version": "1.2.0",
      "_view_name": "LayoutView",
      "align_content": null,
      "align_items": null,
      "align_self": null,
      "border": null,
      "bottom": null,
      "display": null,
      "flex": null,
      "flex_flow": null,
      "grid_area": null,
      "grid_auto_columns": null,
      "grid_auto_flow": null,
      "grid_auto_rows": null,
      "grid_column": null,
      "grid_gap": null,
      "grid_row": null,
      "grid_template_areas": null,
      "grid_template_columns": null,
      "grid_template_rows": null,
      "height": null,
      "justify_content": null,
      "justify_items": null,
      "left": null,
      "margin": null,
      "max_height": null,
      "max_width": null,
      "min_height": null,
      "min_width": null,
      "object_fit": null,
      "object_position": null,
      "order": null,
      "overflow": null,
      "overflow_x": null,
      "overflow_y": null,
      "padding": null,
      "right": null,
      "top": null,
      "visibility": null,
      "width": null
     }
    },
    "bcea31dda7574b32bbc1d6c28ed29c32": {
     "model_module": "@jupyter-widgets/controls",
     "model_name": "HBoxModel",
     "state": {
      "_dom_classes": [],
      "_model_module": "@jupyter-widgets/controls",
      "_model_module_version": "1.5.0",
      "_model_name": "HBoxModel",
      "_view_count": null,
      "_view_module": "@jupyter-widgets/controls",
      "_view_module_version": "1.5.0",
      "_view_name": "HBoxView",
      "box_style": "",
      "children": [
       "IPY_MODEL_83b34c8548f94f6db47e88bc8ef511b1",
       "IPY_MODEL_1692eb8e070541b99b7e2c768784842e"
      ],
      "layout": "IPY_MODEL_0e7f8ca18b8b49a6b1aa9a2821947669"
     }
    },
    "c22fb417522f49fda77032751e1642c1": {
     "model_module": "@jupyter-widgets/base",
     "model_name": "LayoutModel",
     "state": {
      "_model_module": "@jupyter-widgets/base",
      "_model_module_version": "1.2.0",
      "_model_name": "LayoutModel",
      "_view_count": null,
      "_view_module": "@jupyter-widgets/base",
      "_view_module_version": "1.2.0",
      "_view_name": "LayoutView",
      "align_content": null,
      "align_items": null,
      "align_self": null,
      "border": null,
      "bottom": null,
      "display": null,
      "flex": null,
      "flex_flow": null,
      "grid_area": null,
      "grid_auto_columns": null,
      "grid_auto_flow": null,
      "grid_auto_rows": null,
      "grid_column": null,
      "grid_gap": null,
      "grid_row": null,
      "grid_template_areas": null,
      "grid_template_columns": null,
      "grid_template_rows": null,
      "height": null,
      "justify_content": null,
      "justify_items": null,
      "left": null,
      "margin": null,
      "max_height": null,
      "max_width": null,
      "min_height": null,
      "min_width": null,
      "object_fit": null,
      "object_position": null,
      "order": null,
      "overflow": null,
      "overflow_x": null,
      "overflow_y": null,
      "padding": null,
      "right": null,
      "top": null,
      "visibility": null,
      "width": null
     }
    },
    "c41ae360c23f46b4920f0c0002720c9e": {
     "model_module": "@jupyter-widgets/base",
     "model_name": "LayoutModel",
     "state": {
      "_model_module": "@jupyter-widgets/base",
      "_model_module_version": "1.2.0",
      "_model_name": "LayoutModel",
      "_view_count": null,
      "_view_module": "@jupyter-widgets/base",
      "_view_module_version": "1.2.0",
      "_view_name": "LayoutView",
      "align_content": null,
      "align_items": null,
      "align_self": null,
      "border": null,
      "bottom": null,
      "display": null,
      "flex": null,
      "flex_flow": null,
      "grid_area": null,
      "grid_auto_columns": null,
      "grid_auto_flow": null,
      "grid_auto_rows": null,
      "grid_column": null,
      "grid_gap": null,
      "grid_row": null,
      "grid_template_areas": null,
      "grid_template_columns": null,
      "grid_template_rows": null,
      "height": null,
      "justify_content": null,
      "justify_items": null,
      "left": null,
      "margin": null,
      "max_height": null,
      "max_width": null,
      "min_height": null,
      "min_width": null,
      "object_fit": null,
      "object_position": null,
      "order": null,
      "overflow": null,
      "overflow_x": null,
      "overflow_y": null,
      "padding": null,
      "right": null,
      "top": null,
      "visibility": null,
      "width": null
     }
    },
    "c8dcddf3881041fd8445ad9cf556f50c": {
     "model_module": "@jupyter-widgets/controls",
     "model_name": "ProgressStyleModel",
     "state": {
      "_model_module": "@jupyter-widgets/controls",
      "_model_module_version": "1.5.0",
      "_model_name": "ProgressStyleModel",
      "_view_count": null,
      "_view_module": "@jupyter-widgets/base",
      "_view_module_version": "1.2.0",
      "_view_name": "StyleView",
      "bar_color": null,
      "description_width": "initial"
     }
    },
    "cc38ecde182a481f9dbb95f1571e8614": {
     "model_module": "@jupyter-widgets/controls",
     "model_name": "DescriptionStyleModel",
     "state": {
      "_model_module": "@jupyter-widgets/controls",
      "_model_module_version": "1.5.0",
      "_model_name": "DescriptionStyleModel",
      "_view_count": null,
      "_view_module": "@jupyter-widgets/base",
      "_view_module_version": "1.2.0",
      "_view_name": "StyleView",
      "description_width": ""
     }
    },
    "d2224c1aeaa64ec1930951b25ba76dde": {
     "model_module": "@jupyter-widgets/controls",
     "model_name": "ProgressStyleModel",
     "state": {
      "_model_module": "@jupyter-widgets/controls",
      "_model_module_version": "1.5.0",
      "_model_name": "ProgressStyleModel",
      "_view_count": null,
      "_view_module": "@jupyter-widgets/base",
      "_view_module_version": "1.2.0",
      "_view_name": "StyleView",
      "bar_color": null,
      "description_width": "initial"
     }
    },
    "d37f307a2ab949fd80d530af53db353f": {
     "model_module": "@jupyter-widgets/base",
     "model_name": "LayoutModel",
     "state": {
      "_model_module": "@jupyter-widgets/base",
      "_model_module_version": "1.2.0",
      "_model_name": "LayoutModel",
      "_view_count": null,
      "_view_module": "@jupyter-widgets/base",
      "_view_module_version": "1.2.0",
      "_view_name": "LayoutView",
      "align_content": null,
      "align_items": null,
      "align_self": null,
      "border": null,
      "bottom": null,
      "display": null,
      "flex": null,
      "flex_flow": null,
      "grid_area": null,
      "grid_auto_columns": null,
      "grid_auto_flow": null,
      "grid_auto_rows": null,
      "grid_column": null,
      "grid_gap": null,
      "grid_row": null,
      "grid_template_areas": null,
      "grid_template_columns": null,
      "grid_template_rows": null,
      "height": null,
      "justify_content": null,
      "justify_items": null,
      "left": null,
      "margin": null,
      "max_height": null,
      "max_width": null,
      "min_height": null,
      "min_width": null,
      "object_fit": null,
      "object_position": null,
      "order": null,
      "overflow": null,
      "overflow_x": null,
      "overflow_y": null,
      "padding": null,
      "right": null,
      "top": null,
      "visibility": null,
      "width": null
     }
    },
    "d634b3ad00b94edc8f8e355c3b5ddcf0": {
     "model_module": "@jupyter-widgets/controls",
     "model_name": "DescriptionStyleModel",
     "state": {
      "_model_module": "@jupyter-widgets/controls",
      "_model_module_version": "1.5.0",
      "_model_name": "DescriptionStyleModel",
      "_view_count": null,
      "_view_module": "@jupyter-widgets/base",
      "_view_module_version": "1.2.0",
      "_view_name": "StyleView",
      "description_width": ""
     }
    },
    "dde26e6292d74f4e9d8bc1d26b87f139": {
     "model_module": "@jupyter-widgets/controls",
     "model_name": "HBoxModel",
     "state": {
      "_dom_classes": [],
      "_model_module": "@jupyter-widgets/controls",
      "_model_module_version": "1.5.0",
      "_model_name": "HBoxModel",
      "_view_count": null,
      "_view_module": "@jupyter-widgets/controls",
      "_view_module_version": "1.5.0",
      "_view_name": "HBoxView",
      "box_style": "",
      "children": [
       "IPY_MODEL_648e1e1ce6a842fd84236f9454266fd8",
       "IPY_MODEL_9cb2ef5d3e194f7e9bd036182b310f18"
      ],
      "layout": "IPY_MODEL_c41ae360c23f46b4920f0c0002720c9e"
     }
    }
   }
  }
 },
 "nbformat": 4,
 "nbformat_minor": 4
}
